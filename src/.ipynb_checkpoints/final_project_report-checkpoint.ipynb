{
 "cells": [
  {
   "cell_type": "markdown",
   "metadata": {},
   "source": [
    "<div style=\"page-break-after: always;\"></div>"
   ]
  },
  {
   "cell_type": "markdown",
   "metadata": {},
   "source": [
    "# <center>DATA1030 Final Project Report -- Hand Gesture Recognition</center>\n",
    "<center>Cangcheng Tang</center>\n",
    "<center>Banner ID: B01628536</center>"
   ]
  },
  {
   "cell_type": "code",
   "execution_count": 3,
   "metadata": {},
   "outputs": [],
   "source": [
    "import pandas as pd\n",
    "import numpy as np\n",
    "import time\n",
    "# import shap\n",
    "from sklearn.preprocessing import MinMaxScaler\n",
    "import xgboost\n",
    "from sklearn.svm import SVC\n",
    "from sklearn.model_selection import ParameterGrid\n",
    "from sklearn.metrics import mean_squared_error\n",
    "from sklearn.metrics import r2_score\n",
    "from sklearn.model_selection import ParameterGrid\n",
    "from sklearn.metrics import confusion_matrix, accuracy_score, make_scorer\n",
    "from matplotlib import pylab as plt\n",
    "from sklearn.ensemble import RandomForestRegressor\n",
    "from sklearn.experimental import enable_iterative_imputer\n",
    "from sklearn.impute import IterativeImputer\n",
    "import seaborn as sn\n",
    "from sklearn.model_selection import train_test_split, StratifiedKFold, GridSearchCV\n",
    "from sklearn.pipeline import make_pipeline, Pipeline\n",
    "from sklearn.compose import ColumnTransformer"
   ]
  },
  {
   "cell_type": "code",
   "execution_count": 4,
   "metadata": {},
   "outputs": [],
   "source": [
    "import warnings\n",
    "warnings.filterwarnings(\"ignore\")"
   ]
  },
  {
   "cell_type": "code",
   "execution_count": 6,
   "metadata": {},
   "outputs": [],
   "source": [
    "# shap.initjs() # required for visualizations later on"
   ]
  },
  {
   "cell_type": "code",
   "execution_count": 7,
   "metadata": {},
   "outputs": [
    {
     "data": {
      "text/html": [
       "<div>\n",
       "<style scoped>\n",
       "    .dataframe tbody tr th:only-of-type {\n",
       "        vertical-align: middle;\n",
       "    }\n",
       "\n",
       "    .dataframe tbody tr th {\n",
       "        vertical-align: top;\n",
       "    }\n",
       "\n",
       "    .dataframe thead th {\n",
       "        text-align: right;\n",
       "    }\n",
       "</style>\n",
       "<table border=\"1\" class=\"dataframe\">\n",
       "  <thead>\n",
       "    <tr style=\"text-align: right;\">\n",
       "      <th></th>\n",
       "      <th>Class</th>\n",
       "      <th>User</th>\n",
       "      <th>X0</th>\n",
       "      <th>Y0</th>\n",
       "      <th>Z0</th>\n",
       "      <th>X1</th>\n",
       "      <th>Y1</th>\n",
       "      <th>Z1</th>\n",
       "      <th>X2</th>\n",
       "      <th>Y2</th>\n",
       "      <th>...</th>\n",
       "      <th>X8</th>\n",
       "      <th>Y8</th>\n",
       "      <th>Z8</th>\n",
       "      <th>X9</th>\n",
       "      <th>Y9</th>\n",
       "      <th>Z9</th>\n",
       "      <th>X10</th>\n",
       "      <th>Y10</th>\n",
       "      <th>Z10</th>\n",
       "      <th>Missing_marker_num</th>\n",
       "    </tr>\n",
       "  </thead>\n",
       "  <tbody>\n",
       "    <tr>\n",
       "      <th>1</th>\n",
       "      <td>1</td>\n",
       "      <td>0</td>\n",
       "      <td>54.263880</td>\n",
       "      <td>71.466776</td>\n",
       "      <td>-64.807709</td>\n",
       "      <td>76.895635</td>\n",
       "      <td>42.462500</td>\n",
       "      <td>-72.780545</td>\n",
       "      <td>36.621229</td>\n",
       "      <td>81.680557</td>\n",
       "      <td>...</td>\n",
       "      <td>NaN</td>\n",
       "      <td>NaN</td>\n",
       "      <td>NaN</td>\n",
       "      <td>NaN</td>\n",
       "      <td>NaN</td>\n",
       "      <td>NaN</td>\n",
       "      <td>NaN</td>\n",
       "      <td>NaN</td>\n",
       "      <td>NaN</td>\n",
       "      <td>18</td>\n",
       "    </tr>\n",
       "    <tr>\n",
       "      <th>2</th>\n",
       "      <td>1</td>\n",
       "      <td>0</td>\n",
       "      <td>56.527558</td>\n",
       "      <td>72.266609</td>\n",
       "      <td>-61.935252</td>\n",
       "      <td>39.135978</td>\n",
       "      <td>82.538530</td>\n",
       "      <td>-49.596509</td>\n",
       "      <td>79.223743</td>\n",
       "      <td>43.254091</td>\n",
       "      <td>...</td>\n",
       "      <td>NaN</td>\n",
       "      <td>NaN</td>\n",
       "      <td>NaN</td>\n",
       "      <td>NaN</td>\n",
       "      <td>NaN</td>\n",
       "      <td>NaN</td>\n",
       "      <td>NaN</td>\n",
       "      <td>NaN</td>\n",
       "      <td>NaN</td>\n",
       "      <td>18</td>\n",
       "    </tr>\n",
       "    <tr>\n",
       "      <th>3</th>\n",
       "      <td>1</td>\n",
       "      <td>0</td>\n",
       "      <td>55.849928</td>\n",
       "      <td>72.469064</td>\n",
       "      <td>-62.562788</td>\n",
       "      <td>37.988804</td>\n",
       "      <td>82.631347</td>\n",
       "      <td>-50.606259</td>\n",
       "      <td>78.451526</td>\n",
       "      <td>43.567403</td>\n",
       "      <td>...</td>\n",
       "      <td>NaN</td>\n",
       "      <td>NaN</td>\n",
       "      <td>NaN</td>\n",
       "      <td>NaN</td>\n",
       "      <td>NaN</td>\n",
       "      <td>NaN</td>\n",
       "      <td>NaN</td>\n",
       "      <td>NaN</td>\n",
       "      <td>NaN</td>\n",
       "      <td>18</td>\n",
       "    </tr>\n",
       "    <tr>\n",
       "      <th>4</th>\n",
       "      <td>1</td>\n",
       "      <td>0</td>\n",
       "      <td>55.329647</td>\n",
       "      <td>71.707275</td>\n",
       "      <td>-63.688956</td>\n",
       "      <td>36.561863</td>\n",
       "      <td>81.868749</td>\n",
       "      <td>-52.752784</td>\n",
       "      <td>86.320630</td>\n",
       "      <td>68.214645</td>\n",
       "      <td>...</td>\n",
       "      <td>NaN</td>\n",
       "      <td>NaN</td>\n",
       "      <td>NaN</td>\n",
       "      <td>NaN</td>\n",
       "      <td>NaN</td>\n",
       "      <td>NaN</td>\n",
       "      <td>NaN</td>\n",
       "      <td>NaN</td>\n",
       "      <td>NaN</td>\n",
       "      <td>18</td>\n",
       "    </tr>\n",
       "    <tr>\n",
       "      <th>5</th>\n",
       "      <td>1</td>\n",
       "      <td>0</td>\n",
       "      <td>55.142401</td>\n",
       "      <td>71.435607</td>\n",
       "      <td>-64.177303</td>\n",
       "      <td>36.175818</td>\n",
       "      <td>81.556874</td>\n",
       "      <td>-53.475747</td>\n",
       "      <td>76.986143</td>\n",
       "      <td>42.426849</td>\n",
       "      <td>...</td>\n",
       "      <td>NaN</td>\n",
       "      <td>NaN</td>\n",
       "      <td>NaN</td>\n",
       "      <td>NaN</td>\n",
       "      <td>NaN</td>\n",
       "      <td>NaN</td>\n",
       "      <td>NaN</td>\n",
       "      <td>NaN</td>\n",
       "      <td>NaN</td>\n",
       "      <td>18</td>\n",
       "    </tr>\n",
       "  </tbody>\n",
       "</table>\n",
       "<p>5 rows × 36 columns</p>\n",
       "</div>"
      ],
      "text/plain": [
       "   Class  User         X0         Y0         Z0         X1         Y1  \\\n",
       "1      1     0  54.263880  71.466776 -64.807709  76.895635  42.462500   \n",
       "2      1     0  56.527558  72.266609 -61.935252  39.135978  82.538530   \n",
       "3      1     0  55.849928  72.469064 -62.562788  37.988804  82.631347   \n",
       "4      1     0  55.329647  71.707275 -63.688956  36.561863  81.868749   \n",
       "5      1     0  55.142401  71.435607 -64.177303  36.175818  81.556874   \n",
       "\n",
       "          Z1         X2         Y2  ...   X8   Y8   Z8   X9   Y9   Z9  X10  \\\n",
       "1 -72.780545  36.621229  81.680557  ...  NaN  NaN  NaN  NaN  NaN  NaN  NaN   \n",
       "2 -49.596509  79.223743  43.254091  ...  NaN  NaN  NaN  NaN  NaN  NaN  NaN   \n",
       "3 -50.606259  78.451526  43.567403  ...  NaN  NaN  NaN  NaN  NaN  NaN  NaN   \n",
       "4 -52.752784  86.320630  68.214645  ...  NaN  NaN  NaN  NaN  NaN  NaN  NaN   \n",
       "5 -53.475747  76.986143  42.426849  ...  NaN  NaN  NaN  NaN  NaN  NaN  NaN   \n",
       "\n",
       "   Y10  Z10 Missing_marker_num  \n",
       "1  NaN  NaN                 18  \n",
       "2  NaN  NaN                 18  \n",
       "3  NaN  NaN                 18  \n",
       "4  NaN  NaN                 18  \n",
       "5  NaN  NaN                 18  \n",
       "\n",
       "[5 rows x 36 columns]"
      ]
     },
     "execution_count": 7,
     "metadata": {},
     "output_type": "execute_result"
    }
   ],
   "source": [
    "df = pd.read_csv('../data/Original Postures Data.csv')\n",
    "df = df.drop(0)    # Dropping initial dummy record\n",
    "df = df.replace('?', np.NaN)    # Replacing missing value with NaN\n",
    "df = df.drop(['X11','Y11', 'Z11'], axis=1)    # Drop marker 11, almost missing 100%\n",
    "df['Missing_marker_num'] = df.isnull().sum(axis=1)    # Add a new column for # of missing markers\n",
    "df.head()"
   ]
  },
  {
   "cell_type": "code",
   "execution_count": 8,
   "metadata": {},
   "outputs": [
    {
     "name": "stdout",
     "output_type": "stream",
     "text": [
      "Baselin for Class: 20.928356488891733%\n",
      "Baselin for User: 12.258147128497344%\n"
     ]
    }
   ],
   "source": [
    "baseline_class = list(df['Class'].value_counts()/df.shape[0])[0]\n",
    "baseline_user = list(df['User'].value_counts()/df.shape[0])[0]\n",
    "print(f\"Baselin for Class: {100*baseline_class}%\")\n",
    "print(f\"Baselin for User: {100*baseline_user}%\")"
   ]
  },
  {
   "cell_type": "code",
   "execution_count": 71,
   "metadata": {},
   "outputs": [
    {
     "data": {
      "image/png": "[encoded data removed]",
      "text/plain": [
       "<Figure size 432x288 with 1 Axes>"
      ]
     },
     "metadata": {
      "needs_background": "light"
     },
     "output_type": "display_data"
    }
   ],
   "source": [
    "plt.xlabel(\"Class\")\n",
    "plt.ylabel(\"Proportion\")\n",
    "plt.title(\"Proportion of Class\")\n",
    "plt.xticks([1, 2, 3, 4, 5])\n",
    "plt.hist(df['Class'], bins=[0.5, 1.5, 2.5, 3.5, 4.5, 5.5], density=True, rwidth=0.7)\n",
    "plt.savefig(\"../figures/proportion of class\", dpi=300)"
   ]
  },
  {
   "cell_type": "code",
   "execution_count": 74,
   "metadata": {},
   "outputs": [
    {
     "data": {
      "image/png": "[encoded data removed]",
      "text/plain": [
       "<Figure size 432x288 with 1 Axes>"
      ]
     },
     "metadata": {
      "needs_background": "light"
     },
     "output_type": "display_data"
    }
   ],
   "source": [
    "plt.xlabel(\"User\")\n",
    "plt.ylabel(\"Proportion\")\n",
    "plt.title(\"Proportion of User\")\n",
    "plt.xticks(range(1, 15))\n",
    "plt.hist(df['User'], bins=[i-0.5 for i in range(1, 15)], density=True, rwidth=0.7)\n",
    "plt.savefig(\"../figures/proportion of user\", dpi=300)"
   ]
  },
  {
   "cell_type": "markdown",
   "metadata": {},
   "source": [
    "# 1. Create train, cv, test according to User/Class to prevent data leakage.  "
   ]
  },
  {
   "cell_type": "code",
   "execution_count": 8,
   "metadata": {},
   "outputs": [],
   "source": [
    "scaler_minmax = MinMaxScaler()\n",
    "coord_column = df.columns[2:]\n",
    "impute_feat = list(df.columns[0:17])\n",
    "impute_feat.append('Missing_marker_num')\n",
    "\n",
    "def extract_data(ls, ref_col, pred_col, drop_ref=True, impute=False, random_state=42):\n",
    "    \"\"\"Extract data according to the given list ls\"\"\"\n",
    "    print('proportion:', sum([len(df[df[ref_col] == i]) for i in ls])/df.shape[0])    # The proportion of extracted data\n",
    "    df_split = df.loc[df[ref_col].isin(ls)]    # Get split set\n",
    "    df_split[coord_column] = scaler_minmax.fit_transform(df_split[coord_column])    # Standarize coordinates\n",
    "    # Impute missing values\n",
    "    if impute:\n",
    "        X = df_split[impute_feat]\n",
    "        imputer = IterativeImputer(estimator = \n",
    "                   RandomForestRegressor(max_depth=2, n_estimators=30, n_jobs=-1), \n",
    "                                   random_state=random_state)\n",
    "        X_impute = imputer.fit_transform(X)\n",
    "        df_split[impute_feat] = X_impute\n",
    "    # drop referenced column\n",
    "    if drop_ref:\n",
    "        df_split.drop(ref_col, axis=1, inplace=True)\n",
    "    x_split = df_split.drop(pred_col, axis=1)    # Get x_split\n",
    "    y_split = df_split[[pred_col]]    # Get y_split\n",
    "    print('rows:', df_split.shape[0])\n",
    "    if impute:\n",
    "        return x_split.drop(x_split.columns[15:33], axis=1), y_split\n",
    "    else:\n",
    "        return x_split, y_split"
   ]
  },
  {
   "cell_type": "markdown",
   "metadata": {},
   "source": [
    "# 2. Prediction"
   ]
  },
  {
   "cell_type": "markdown",
   "metadata": {},
   "source": [
    "## 2.1 Training Models for Class"
   ]
  },
  {
   "cell_type": "markdown",
   "metadata": {},
   "source": [
    "### 2.1.1 xgboost"
   ]
  },
  {
   "cell_type": "markdown",
   "metadata": {},
   "source": [
    "#### 2.1.1.1 Split train, cv, test for XGB"
   ]
  },
  {
   "cell_type": "code",
   "execution_count": 16,
   "metadata": {},
   "outputs": [
    {
     "name": "stdout",
     "output_type": "stream",
     "text": [
      "Test: \n",
      "proportion: 0.2097957615724438\n",
      "rows: 16384\n",
      "########################################\n",
      "Train\n",
      "proportion: 0.5750816313464371\n",
      "rows: 44911\n",
      "########################################\n",
      "CV\n",
      "proportion: 0.21512260708111916\n",
      "rows: 16800\n"
     ]
    }
   ],
   "source": [
    "# User 8, 10 as test set, 20.98% of all the data\n",
    "class_test_list = [8, 10]\n",
    "print(\"Test: \")\n",
    "x_class_test, y_class_test = extract_data(class_test_list, 'User', 'Class')\n",
    "\n",
    "# User 0, 1, 2, 4, 5, 6, 7, 9, 11, 14 as training set, 57.51% of all the data\n",
    "print(\"########################################\")\n",
    "class_train_list = [0, 1, 2, 4, 5, 6, 7, 9, 12, 14]\n",
    "print(\"Train\")\n",
    "x_class_train, y_class_train = extract_data(class_train_list, 'User', 'Class')\n",
    "\n",
    "# User 11, 13 as CV set, 21.51% of all the data\n",
    "print(\"########################################\")\n",
    "class_cv_list = [11, 13]\n",
    "print(\"CV\")\n",
    "x_class_cv, y_class_cv = extract_data(class_cv_list, 'User', 'Class')"
   ]
  },
  {
   "cell_type": "markdown",
   "metadata": {},
   "source": [
    "#### 2.1.1.2 Tune hyperparameters\n",
    "Find the best $\\alpha$, $\\lambda$ and `max_depth` for xgboost.  "
   ]
  },
  {
   "cell_type": "code",
   "execution_count": 212,
   "metadata": {},
   "outputs": [],
   "source": [
    "xgb_para = {\"XGB\": [], \"alpha\": [], \"lambda\": [], \"depth\": [], \"accuracy_cv\": []}\n",
    "for alpha in [0e0, 1., 10]:\n",
    "    for lbd in [0e0, 1., 10]:\n",
    "        for depth in [2, 3, 4]:\n",
    "            param_grid = {\"learning_rate\": [0.03],\n",
    "                          \"n_estimators\": [400],\n",
    "                          \"seed\": [42],\n",
    "                          \"reg_alpha\": [alpha],\n",
    "                          \"reg_lambda\": [lbd],\n",
    "                          \"missing\": [np.NaN], \n",
    "                          \"max_depth\": [depth],\n",
    "                          \"colsample_bytree\": [0.9],              \n",
    "                          \"subsample\": [0.66], \n",
    "                          \"n_jobs\": [-1]}\n",
    "            XGB = xgboost.XGBClassifier()\n",
    "            XGB.set_params(**ParameterGrid(param_grid)[0])\n",
    "            XGB.fit(x_class_train, y_class_train, early_stopping_rounds=50, \n",
    "                    eval_set=[(x_class_cv, y_class_cv)], verbose=False)\n",
    "            y_class_cv_pred = XGB.predict(x_class_cv)\n",
    "            xgb_para[\"accuracy_cv\"].append(accuracy_score(y_class_cv, y_class_cv_pred))\n",
    "            xgb_para[\"XGB\"].append(XGB)\n",
    "            xgb_para[\"alpha\"].append(alpha)\n",
    "            xgb_para[\"lambda\"].append(lbd)\n",
    "            xgb_para[\"depth\"].append(depth)"
   ]
  },
  {
   "cell_type": "code",
   "execution_count": 216,
   "metadata": {
    "scrolled": true
   },
   "outputs": [
    {
     "data": {
      "text/html": [
       "<div>\n",
       "<style scoped>\n",
       "    .dataframe tbody tr th:only-of-type {\n",
       "        vertical-align: middle;\n",
       "    }\n",
       "\n",
       "    .dataframe tbody tr th {\n",
       "        vertical-align: top;\n",
       "    }\n",
       "\n",
       "    .dataframe thead th {\n",
       "        text-align: right;\n",
       "    }\n",
       "</style>\n",
       "<table border=\"1\" class=\"dataframe\">\n",
       "  <thead>\n",
       "    <tr style=\"text-align: right;\">\n",
       "      <th></th>\n",
       "      <th>XGB</th>\n",
       "      <th>alpha</th>\n",
       "      <th>lambda</th>\n",
       "      <th>depth</th>\n",
       "      <th>accuracy_cv</th>\n",
       "    </tr>\n",
       "  </thead>\n",
       "  <tbody>\n",
       "    <tr>\n",
       "      <th>23</th>\n",
       "      <td>XGBClassifier(base_score=0.5, booster='gbtree'...</td>\n",
       "      <td>10.0</td>\n",
       "      <td>1.0</td>\n",
       "      <td>4</td>\n",
       "      <td>0.860060</td>\n",
       "    </tr>\n",
       "    <tr>\n",
       "      <th>20</th>\n",
       "      <td>XGBClassifier(base_score=0.5, booster='gbtree'...</td>\n",
       "      <td>10.0</td>\n",
       "      <td>0.0</td>\n",
       "      <td>4</td>\n",
       "      <td>0.859286</td>\n",
       "    </tr>\n",
       "    <tr>\n",
       "      <th>17</th>\n",
       "      <td>XGBClassifier(base_score=0.5, booster='gbtree'...</td>\n",
       "      <td>1.0</td>\n",
       "      <td>10.0</td>\n",
       "      <td>4</td>\n",
       "      <td>0.857619</td>\n",
       "    </tr>\n",
       "    <tr>\n",
       "      <th>26</th>\n",
       "      <td>XGBClassifier(base_score=0.5, booster='gbtree'...</td>\n",
       "      <td>10.0</td>\n",
       "      <td>10.0</td>\n",
       "      <td>4</td>\n",
       "      <td>0.855833</td>\n",
       "    </tr>\n",
       "    <tr>\n",
       "      <th>8</th>\n",
       "      <td>XGBClassifier(base_score=0.5, booster='gbtree'...</td>\n",
       "      <td>0.0</td>\n",
       "      <td>10.0</td>\n",
       "      <td>4</td>\n",
       "      <td>0.854940</td>\n",
       "    </tr>\n",
       "    <tr>\n",
       "      <th>25</th>\n",
       "      <td>XGBClassifier(base_score=0.5, booster='gbtree'...</td>\n",
       "      <td>10.0</td>\n",
       "      <td>10.0</td>\n",
       "      <td>3</td>\n",
       "      <td>0.854345</td>\n",
       "    </tr>\n",
       "    <tr>\n",
       "      <th>7</th>\n",
       "      <td>XGBClassifier(base_score=0.5, booster='gbtree'...</td>\n",
       "      <td>0.0</td>\n",
       "      <td>10.0</td>\n",
       "      <td>3</td>\n",
       "      <td>0.853274</td>\n",
       "    </tr>\n",
       "    <tr>\n",
       "      <th>16</th>\n",
       "      <td>XGBClassifier(base_score=0.5, booster='gbtree'...</td>\n",
       "      <td>1.0</td>\n",
       "      <td>10.0</td>\n",
       "      <td>3</td>\n",
       "      <td>0.851845</td>\n",
       "    </tr>\n",
       "    <tr>\n",
       "      <th>19</th>\n",
       "      <td>XGBClassifier(base_score=0.5, booster='gbtree'...</td>\n",
       "      <td>10.0</td>\n",
       "      <td>0.0</td>\n",
       "      <td>3</td>\n",
       "      <td>0.851607</td>\n",
       "    </tr>\n",
       "    <tr>\n",
       "      <th>22</th>\n",
       "      <td>XGBClassifier(base_score=0.5, booster='gbtree'...</td>\n",
       "      <td>10.0</td>\n",
       "      <td>1.0</td>\n",
       "      <td>3</td>\n",
       "      <td>0.851548</td>\n",
       "    </tr>\n",
       "    <tr>\n",
       "      <th>13</th>\n",
       "      <td>XGBClassifier(base_score=0.5, booster='gbtree'...</td>\n",
       "      <td>1.0</td>\n",
       "      <td>1.0</td>\n",
       "      <td>3</td>\n",
       "      <td>0.842738</td>\n",
       "    </tr>\n",
       "    <tr>\n",
       "      <th>4</th>\n",
       "      <td>XGBClassifier(base_score=0.5, booster='gbtree'...</td>\n",
       "      <td>0.0</td>\n",
       "      <td>1.0</td>\n",
       "      <td>3</td>\n",
       "      <td>0.835357</td>\n",
       "    </tr>\n",
       "    <tr>\n",
       "      <th>10</th>\n",
       "      <td>XGBClassifier(base_score=0.5, booster='gbtree'...</td>\n",
       "      <td>1.0</td>\n",
       "      <td>0.0</td>\n",
       "      <td>3</td>\n",
       "      <td>0.832262</td>\n",
       "    </tr>\n",
       "    <tr>\n",
       "      <th>12</th>\n",
       "      <td>XGBClassifier(base_score=0.5, booster='gbtree'...</td>\n",
       "      <td>1.0</td>\n",
       "      <td>1.0</td>\n",
       "      <td>2</td>\n",
       "      <td>0.831964</td>\n",
       "    </tr>\n",
       "    <tr>\n",
       "      <th>6</th>\n",
       "      <td>XGBClassifier(base_score=0.5, booster='gbtree'...</td>\n",
       "      <td>0.0</td>\n",
       "      <td>10.0</td>\n",
       "      <td>2</td>\n",
       "      <td>0.831190</td>\n",
       "    </tr>\n",
       "    <tr>\n",
       "      <th>15</th>\n",
       "      <td>XGBClassifier(base_score=0.5, booster='gbtree'...</td>\n",
       "      <td>1.0</td>\n",
       "      <td>10.0</td>\n",
       "      <td>2</td>\n",
       "      <td>0.830119</td>\n",
       "    </tr>\n",
       "    <tr>\n",
       "      <th>3</th>\n",
       "      <td>XGBClassifier(base_score=0.5, booster='gbtree'...</td>\n",
       "      <td>0.0</td>\n",
       "      <td>1.0</td>\n",
       "      <td>2</td>\n",
       "      <td>0.829226</td>\n",
       "    </tr>\n",
       "    <tr>\n",
       "      <th>14</th>\n",
       "      <td>XGBClassifier(base_score=0.5, booster='gbtree'...</td>\n",
       "      <td>1.0</td>\n",
       "      <td>1.0</td>\n",
       "      <td>4</td>\n",
       "      <td>0.828631</td>\n",
       "    </tr>\n",
       "    <tr>\n",
       "      <th>1</th>\n",
       "      <td>XGBClassifier(base_score=0.5, booster='gbtree'...</td>\n",
       "      <td>0.0</td>\n",
       "      <td>0.0</td>\n",
       "      <td>3</td>\n",
       "      <td>0.825417</td>\n",
       "    </tr>\n",
       "    <tr>\n",
       "      <th>9</th>\n",
       "      <td>XGBClassifier(base_score=0.5, booster='gbtree'...</td>\n",
       "      <td>1.0</td>\n",
       "      <td>0.0</td>\n",
       "      <td>2</td>\n",
       "      <td>0.825417</td>\n",
       "    </tr>\n",
       "    <tr>\n",
       "      <th>0</th>\n",
       "      <td>XGBClassifier(base_score=0.5, booster='gbtree'...</td>\n",
       "      <td>0.0</td>\n",
       "      <td>0.0</td>\n",
       "      <td>2</td>\n",
       "      <td>0.824583</td>\n",
       "    </tr>\n",
       "    <tr>\n",
       "      <th>21</th>\n",
       "      <td>XGBClassifier(base_score=0.5, booster='gbtree'...</td>\n",
       "      <td>10.0</td>\n",
       "      <td>1.0</td>\n",
       "      <td>2</td>\n",
       "      <td>0.821012</td>\n",
       "    </tr>\n",
       "    <tr>\n",
       "      <th>5</th>\n",
       "      <td>XGBClassifier(base_score=0.5, booster='gbtree'...</td>\n",
       "      <td>0.0</td>\n",
       "      <td>1.0</td>\n",
       "      <td>4</td>\n",
       "      <td>0.820179</td>\n",
       "    </tr>\n",
       "    <tr>\n",
       "      <th>18</th>\n",
       "      <td>XGBClassifier(base_score=0.5, booster='gbtree'...</td>\n",
       "      <td>10.0</td>\n",
       "      <td>0.0</td>\n",
       "      <td>2</td>\n",
       "      <td>0.819345</td>\n",
       "    </tr>\n",
       "    <tr>\n",
       "      <th>24</th>\n",
       "      <td>XGBClassifier(base_score=0.5, booster='gbtree'...</td>\n",
       "      <td>10.0</td>\n",
       "      <td>10.0</td>\n",
       "      <td>2</td>\n",
       "      <td>0.811429</td>\n",
       "    </tr>\n",
       "    <tr>\n",
       "      <th>11</th>\n",
       "      <td>XGBClassifier(base_score=0.5, booster='gbtree'...</td>\n",
       "      <td>1.0</td>\n",
       "      <td>0.0</td>\n",
       "      <td>4</td>\n",
       "      <td>0.811190</td>\n",
       "    </tr>\n",
       "    <tr>\n",
       "      <th>2</th>\n",
       "      <td>XGBClassifier(base_score=0.5, booster='gbtree'...</td>\n",
       "      <td>0.0</td>\n",
       "      <td>0.0</td>\n",
       "      <td>4</td>\n",
       "      <td>0.791607</td>\n",
       "    </tr>\n",
       "  </tbody>\n",
       "</table>\n",
       "</div>"
      ],
      "text/plain": [
       "                                                  XGB  alpha  lambda  depth  \\\n",
       "23  XGBClassifier(base_score=0.5, booster='gbtree'...   10.0     1.0      4   \n",
       "20  XGBClassifier(base_score=0.5, booster='gbtree'...   10.0     0.0      4   \n",
       "17  XGBClassifier(base_score=0.5, booster='gbtree'...    1.0    10.0      4   \n",
       "26  XGBClassifier(base_score=0.5, booster='gbtree'...   10.0    10.0      4   \n",
       "8   XGBClassifier(base_score=0.5, booster='gbtree'...    0.0    10.0      4   \n",
       "25  XGBClassifier(base_score=0.5, booster='gbtree'...   10.0    10.0      3   \n",
       "7   XGBClassifier(base_score=0.5, booster='gbtree'...    0.0    10.0      3   \n",
       "16  XGBClassifier(base_score=0.5, booster='gbtree'...    1.0    10.0      3   \n",
       "19  XGBClassifier(base_score=0.5, booster='gbtree'...   10.0     0.0      3   \n",
       "22  XGBClassifier(base_score=0.5, booster='gbtree'...   10.0     1.0      3   \n",
       "13  XGBClassifier(base_score=0.5, booster='gbtree'...    1.0     1.0      3   \n",
       "4   XGBClassifier(base_score=0.5, booster='gbtree'...    0.0     1.0      3   \n",
       "10  XGBClassifier(base_score=0.5, booster='gbtree'...    1.0     0.0      3   \n",
       "12  XGBClassifier(base_score=0.5, booster='gbtree'...    1.0     1.0      2   \n",
       "6   XGBClassifier(base_score=0.5, booster='gbtree'...    0.0    10.0      2   \n",
       "15  XGBClassifier(base_score=0.5, booster='gbtree'...    1.0    10.0      2   \n",
       "3   XGBClassifier(base_score=0.5, booster='gbtree'...    0.0     1.0      2   \n",
       "14  XGBClassifier(base_score=0.5, booster='gbtree'...    1.0     1.0      4   \n",
       "1   XGBClassifier(base_score=0.5, booster='gbtree'...    0.0     0.0      3   \n",
       "9   XGBClassifier(base_score=0.5, booster='gbtree'...    1.0     0.0      2   \n",
       "0   XGBClassifier(base_score=0.5, booster='gbtree'...    0.0     0.0      2   \n",
       "21  XGBClassifier(base_score=0.5, booster='gbtree'...   10.0     1.0      2   \n",
       "5   XGBClassifier(base_score=0.5, booster='gbtree'...    0.0     1.0      4   \n",
       "18  XGBClassifier(base_score=0.5, booster='gbtree'...   10.0     0.0      2   \n",
       "24  XGBClassifier(base_score=0.5, booster='gbtree'...   10.0    10.0      2   \n",
       "11  XGBClassifier(base_score=0.5, booster='gbtree'...    1.0     0.0      4   \n",
       "2   XGBClassifier(base_score=0.5, booster='gbtree'...    0.0     0.0      4   \n",
       "\n",
       "    accuracy_cv  \n",
       "23     0.860060  \n",
       "20     0.859286  \n",
       "17     0.857619  \n",
       "26     0.855833  \n",
       "8      0.854940  \n",
       "25     0.854345  \n",
       "7      0.853274  \n",
       "16     0.851845  \n",
       "19     0.851607  \n",
       "22     0.851548  \n",
       "13     0.842738  \n",
       "4      0.835357  \n",
       "10     0.832262  \n",
       "12     0.831964  \n",
       "6      0.831190  \n",
       "15     0.830119  \n",
       "3      0.829226  \n",
       "14     0.828631  \n",
       "1      0.825417  \n",
       "9      0.825417  \n",
       "0      0.824583  \n",
       "21     0.821012  \n",
       "5      0.820179  \n",
       "18     0.819345  \n",
       "24     0.811429  \n",
       "11     0.811190  \n",
       "2      0.791607  "
      ]
     },
     "execution_count": 216,
     "metadata": {},
     "output_type": "execute_result"
    }
   ],
   "source": [
    "# Result for all XGB models on cv set\n",
    "df_xgb = pd.DataFrame(xgb_para)\n",
    "df_xgb.sort_values(by=['accuracy_cv'], ascending=False)"
   ]
  },
  {
   "cell_type": "markdown",
   "metadata": {},
   "source": [
    "#### 2.1.1.3 Result of best model on test set"
   ]
  },
  {
   "cell_type": "code",
   "execution_count": 18,
   "metadata": {
    "scrolled": true
   },
   "outputs": [
    {
     "name": "stdout",
     "output_type": "stream",
     "text": [
      "Test accuracy for the best XGB: 88.238525390625%\n"
     ]
    },
    {
     "data": {
      "text/plain": [
       "array([[3493,    0,    1,    0,    0],\n",
       "       [   0, 2795,    0,    0,   78],\n",
       "       [  30,    0, 3576,  128,   44],\n",
       "       [  14,    4,  348, 2631,   57],\n",
       "       [ 501,  474,  171,   77, 1962]], dtype=int64)"
      ]
     },
     "execution_count": 18,
     "metadata": {},
     "output_type": "execute_result"
    }
   ],
   "source": [
    "# Result of the best model on test set\n",
    "best_XGB = xgb_para[\"XGB\"][np.argmax(xgb_para[\"accuracy_cv\"])]\n",
    "y_class_test_pred = best_XGB.predict(x_class_test)\n",
    "acc_score_xgb = accuracy_score(y_class_test, y_class_test_pred)\n",
    "print(f\"Test accuracy for the best XGB: {100*acc_score_xgb}%\")\n",
    "confusion_matrix(y_class_test, y_class_test_pred)"
   ]
  },
  {
   "cell_type": "code",
   "execution_count": 21,
   "metadata": {},
   "outputs": [
    {
     "data": {
      "image/png": "[encoded data removed]",
      "text/plain": [
       "<Figure size 504x504 with 1 Axes>"
      ]
     },
     "metadata": {
      "needs_background": "light"
     },
     "output_type": "display_data"
    }
   ],
   "source": [
    "# Confusion matrix for best XGB on test set\n",
    "df_cm_xgb = pd.DataFrame(confusion_matrix(y_class_test, y_class_test_pred), \n",
    "                         index=[i for i in \"12345\"], columns = [i for i in \"12345\"])\n",
    "plt.figure(figsize = (7,7))\n",
    "plt.title(\"Confusion Matrix for XGB, Predicting Gesture\")\n",
    "sn.heatmap(df_cm_xgb, annot=True, fmt='g', cbar=False, \n",
    "           annot_kws={\"size\": 16}, cmap=\"Blues\")\n",
    "plt.xlabel(\"Predicted Label\")\n",
    "plt.ylabel(\"True Label\")\n",
    "plt.savefig('../figures/Confusion Matrix for XGB, Predicting Gesture.png',dpi=300)"
   ]
  },
  {
   "cell_type": "markdown",
   "metadata": {},
   "source": [
    "#### 2.1.1.4 Uncertainty created by random state on splitting and xgboost"
   ]
  },
  {
   "cell_type": "code",
   "execution_count": 10,
   "metadata": {},
   "outputs": [],
   "source": [
    "def uncertainty_xgb_class(test, train, cv, random_state):\n",
    "    x_class_test, y_class_test = extract_data(test, 'User', 'Class')\n",
    "    x_class_train, y_class_train = extract_data(train, 'User', 'Class')\n",
    "    x_class_cv, y_class_cv = extract_data(cv, 'User', 'Class')\n",
    "    param_grid = {\"learning_rate\": [0.03],\n",
    "                          \"n_estimators\": [400],\n",
    "                          \"seed\": [random_state],\n",
    "                          \"reg_alpha\": [10],\n",
    "                          \"reg_lambda\": [1],\n",
    "                          \"missing\": [np.NaN], \n",
    "                          \"max_depth\": [4],\n",
    "                          \"colsample_bytree\": [0.9],              \n",
    "                          \"subsample\": [0.66], \n",
    "                          \"n_jobs\": [-1]}\n",
    "    XGB = xgboost.XGBClassifier()\n",
    "    XGB.set_params(**ParameterGrid(param_grid)[0])\n",
    "    XGB.fit(x_class_train, y_class_train, early_stopping_rounds=50, \n",
    "            eval_set=[(x_class_cv, y_class_cv)], verbose=False)\n",
    "    y_class_test_pred = XGB.predict(x_class_test)\n",
    "    return accuracy_score(y_class_test, y_class_test_pred), pd.DataFrame(confusion_matrix(y_class_test, y_class_test_pred), \n",
    "                                                         index=[i for i in \"12345\"], columns = [i for i in \"12345\"])"
   ]
  },
  {
   "cell_type": "code",
   "execution_count": 11,
   "metadata": {},
   "outputs": [
    {
     "name": "stdout",
     "output_type": "stream",
     "text": [
      "proportion: 0.17625968371854792\n",
      "rows: 13765\n",
      "proportion: 0.6158652922722325\n",
      "rows: 48096\n",
      "proportion: 0.20787502400921953\n",
      "rows: 16234\n"
     ]
    }
   ],
   "source": [
    "# 2nd random state\n",
    "test_2 = [0, 1]\n",
    "train_2 = [2, 4, 5, 6, 7, 8, 9, 10, 11, 12]\n",
    "cv_2 = [13, 14]\n",
    "acc_score_xgb_2, df_cm_xgb_2 = uncertainty_xgb_class(test_2, train_2, cv_2, 45)"
   ]
  },
  {
   "cell_type": "code",
   "execution_count": 12,
   "metadata": {},
   "outputs": [
    {
     "name": "stdout",
     "output_type": "stream",
     "text": [
      "proportion: 0.1736474806325629\n",
      "rows: 13561\n",
      "proportion: 0.6271592291439912\n",
      "rows: 48978\n",
      "proportion: 0.1991932902234458\n",
      "rows: 15556\n"
     ]
    }
   ],
   "source": [
    "# 3rd random state\n",
    "test_3 = [0, 2]\n",
    "train_3 = [1, 4, 5, 6, 7, 8, 9, 10, 12, 13]\n",
    "cv_3 = [11, 14]\n",
    "acc_score_xgb_3, df_cm_xgb_3 = uncertainty_xgb_class(test_3, train_3, cv_3, 49)"
   ]
  },
  {
   "cell_type": "code",
   "execution_count": 13,
   "metadata": {},
   "outputs": [
    {
     "name": "stdout",
     "output_type": "stream",
     "text": [
      "proportion: 0.16969076125232088\n",
      "rows: 13252\n",
      "proportion: 0.6205134771752353\n",
      "rows: 48459\n",
      "proportion: 0.2097957615724438\n",
      "rows: 16384\n"
     ]
    }
   ],
   "source": [
    "# 4th random state\n",
    "test_4 = [2, 13]\n",
    "train_4 = [0, 1, 4, 5, 6, 7, 9, 11, 12, 14]\n",
    "cv_4 = [8, 10]\n",
    "acc_score_xgb_4, df_cm_xgb_4 = uncertainty_xgb_class(test_4, train_4, cv_4, 54)"
   ]
  },
  {
   "cell_type": "code",
   "execution_count": 14,
   "metadata": {},
   "outputs": [
    {
     "name": "stdout",
     "output_type": "stream",
     "text": [
      "proportion: 0.16794929252833088\n",
      "rows: 13116\n",
      "proportion: 0.639874511812536\n",
      "rows: 49971\n",
      "proportion: 0.1904347269351431\n",
      "rows: 14872\n"
     ]
    }
   ],
   "source": [
    "# 5th random state\n",
    "test_5 = [6, 13]\n",
    "train_5 = [0, 1, 4, 5, 6, 7, 9, 10, 12, 14]\n",
    "cv_5 = [8, 11]\n",
    "acc_score_xgb_5, df_cm_xgb_5 = uncertainty_xgb_class(test_5, train_5, cv_5, 68)"
   ]
  },
  {
   "cell_type": "code",
   "execution_count": 19,
   "metadata": {},
   "outputs": [
    {
     "name": "stdout",
     "output_type": "stream",
     "text": [
      "for class prediction, mean: 0.8202795399793811, std: 0.07333088084884656\n",
      "8.33204194491923 standard deviation above baseline\n"
     ]
    }
   ],
   "source": [
    "mean_acc_xgb_class = np.mean([acc_score_xgb, acc_score_xgb_2, acc_score_xgb_3, acc_score_xgb_4, acc_score_xgb_5])\n",
    "std_acc_xgb_class = np.std([acc_score_xgb, acc_score_xgb_2, acc_score_xgb_3, acc_score_xgb_4, acc_score_xgb_5])\n",
    "print(f\"for class prediction, mean: {mean_acc_xgb_class}, std: {std_acc_xgb_class}\")\n",
    "print(f\"{(mean_acc_xgb_class-baseline_class)/std_acc_xgb_class} standard deviation above baseline\")"
   ]
  },
  {
   "cell_type": "code",
   "execution_count": 22,
   "metadata": {},
   "outputs": [
    {
     "data": {
      "image/png": "[encoded data removed]",
      "text/plain": [
       "<Figure size 504x504 with 1 Axes>"
      ]
     },
     "metadata": {
      "needs_background": "light"
     },
     "output_type": "display_data"
    }
   ],
   "source": [
    "df_cm_xgb_sum = df_cm_xgb.add(df_cm_xgb_2, fill_value=0).add(df_cm_xgb_3, fill_value=0).add(df_cm_xgb_4, fill_value=0).add(df_cm_xgb_5, fill_value=0)\n",
    "df_cm_xgb_sum_normalize = 100*df_cm_xgb_sum.astype('float') / df_cm_xgb_sum.sum(axis=1)[:, np.newaxis]\n",
    "plt.figure(figsize = (7,7))\n",
    "plt.title(\"Average Normalized Confusion Matrix for XGB, Predicting Gesture\")\n",
    "sn.heatmap(df_cm_xgb_sum_normalize, annot=True, fmt='g', cbar=False, \n",
    "           annot_kws={\"size\": 13}, cmap=\"Blues\")\n",
    "plt.xlabel(\"Predicted Label\")\n",
    "plt.ylabel(\"True Label\")\n",
    "plt.savefig('../figures/Average Normalized Confusion Matrix for XGB, Predicting Gesture.png',dpi=300)"
   ]
  },
  {
   "cell_type": "markdown",
   "metadata": {},
   "source": [
    "#### 2.1.1.5 Local feature importance with xgboost"
   ]
  },
  {
   "cell_type": "code",
   "execution_count": 613,
   "metadata": {},
   "outputs": [
    {
     "name": "stdout",
     "output_type": "stream",
     "text": [
      "(16384, 34)\n",
      "(5, 100, 34)\n"
     ]
    }
   ],
   "source": [
    "# create the explainer object with the random forest model\n",
    "explainer_xgb_class = shap.TreeExplainer(best_XGB)\n",
    "# transform the test set\n",
    "\n",
    "X_test_transformed_xgb_class = scaler_minmax.fit_transform(x_class_test)\n",
    "print(np.shape(X_test_transformed_xgb_class))\n",
    "# calculate shap values on the first 100 points in the test\n",
    "shap_values_xgb_class = explainer_xgb_class.shap_values(X_test_transformed_xgb_class[:100])\n",
    "print(np.shape(shap_values_xgb_class))"
   ]
  },
  {
   "cell_type": "code",
   "execution_count": 639,
   "metadata": {},
   "outputs": [
    {
     "name": "stdout",
     "output_type": "stream",
     "text": [
      "0.47618714\n"
     ]
    },
    {
     "data": {
      "text/html": [
       "\n",
       "<div id='i02N0CMSOFIKKCDCCG1C1'>\n",
       "<div style='color: #900; text-align: center;'>\n",
       "  <b>Visualization omitted, Javascript library not loaded!</b><br>\n",
       "  Have you run `initjs()` in this notebook? If this notebook was from another\n",
       "  user you must also trust this notebook (File -> Trust notebook). If you are viewing\n",
       "  this notebook on github the Javascript has been stripped for security. If you are using\n",
       "  JupyterLab this error is because a JupyterLab extension has not yet been written.\n",
       "</div></div>\n",
       " <script>\n",
       "   if (window.SHAP) SHAP.ReactDom.render(\n",
       "    SHAP.React.createElement(SHAP.AdditiveForceVisualizer, {\"outNames\": [\"output value\"], \"baseValue\": 0.476187139749527, \"outValue\": 3.5601305961608887, \"link\": \"identity\", \"featureNames\": [\"Y0\", \"Z0\", \"X1\", \"Y1\", \"Z1\", \"X2\", \"Y2\", \"Z2\", \"X3\", \"Y3\", \"Z3\", \"X4\", \"Y4\", \"Z4\", \"X5\", \"Y5\", \"Z5\", \"X6\", \"Y6\", \"Z6\", \"X7\", \"Y7\", \"Z7\", \"X8\", \"Y8\", \"Z8\", \"X9\", \"Y9\", \"Z9\", \"X10\", \"Y10\", \"Z10\", \"Missing_marker_num\"], \"features\": {\"0\": {\"effect\": -0.30990615487098694, \"value\": 0.6973882934646649}, \"1\": {\"effect\": 0.3163720369338989, \"value\": 0.5598174428305622}, \"2\": {\"effect\": 0.13714638352394104, \"value\": 0.17288316142763416}, \"3\": {\"effect\": 0.0046644206158816814, \"value\": 0.6073318973883467}, \"4\": {\"effect\": 0.39691343903541565, \"value\": 0.6081902833107641}, \"5\": {\"effect\": -0.0010406703222543001, \"value\": 0.29129267323998564}, \"6\": {\"effect\": 0.01825161837041378, \"value\": 0.4722430649855771}, \"7\": {\"effect\": 0.32253026962280273, \"value\": 0.6239202965092926}, \"8\": {\"effect\": -0.018221378326416016, \"value\": 0.36757441337229907}, \"9\": {\"effect\": 0.02582208253443241, \"value\": 0.5268850241000365}, \"10\": {\"effect\": 0.3460216522216797, \"value\": 0.6001480385793395}, \"11\": {\"effect\": -0.014060591347515583, \"value\": 0.29350891665218154}, \"12\": {\"effect\": -0.01563342474400997, \"value\": 0.6255396789847016}, \"13\": {\"effect\": 0.3631748557090759, \"value\": 0.28063506332309673}, \"14\": {\"effect\": 0.010289430618286133, \"value\": 0.1954342121687958}, \"15\": {\"effect\": -0.0003417750704102218, \"value\": 0.7108221547889}, \"16\": {\"effect\": 0.15359577536582947, \"value\": 0.44022162252666186}, \"17\": {\"effect\": 0.010975945740938187, \"value\": 0.1319050468442397}, \"18\": {\"effect\": 0.022809624671936035, \"value\": NaN}, \"19\": {\"effect\": 0.190726175904274, \"value\": NaN}, \"20\": {\"effect\": 0.2950701415538788, \"value\": NaN}, \"21\": {\"effect\": 0.7293373346328735, \"value\": NaN}, \"22\": {\"effect\": 0.10288763791322708, \"value\": NaN}, \"23\": {\"effect\": 0.008290606550872326, \"value\": NaN}, \"26\": {\"effect\": -0.0001510714937467128, \"value\": NaN}, \"27\": {\"effect\": -0.0002045092114713043, \"value\": NaN}, \"28\": {\"effect\": -0.00011501830886118114, \"value\": NaN}, \"29\": {\"effect\": -0.00017811343423090875, \"value\": NaN}, \"30\": {\"effect\": -0.0038079391233623028, \"value\": NaN}, \"31\": {\"effect\": -0.001826840452849865, \"value\": NaN}, \"32\": {\"effect\": -0.005448687355965376, \"value\": NaN}}, \"plot_cmap\": \"PkYg\", \"labelMargin\": 20}),\n",
       "    document.getElementById('i02N0CMSOFIKKCDCCG1C1')\n",
       "  );\n",
       "</script>"
      ],
      "text/plain": [
       "<IPython.core.display.HTML object>"
      ]
     },
     "execution_count": 639,
     "metadata": {},
     "output_type": "execute_result"
    }
   ],
   "source": [
    "index = 5 # the index of the point to explain\n",
    "print(explainer_xgb_class.expected_value[0]) # we explain class 0 predictions\n",
    "shap.force_plot(explainer_xgb_class.expected_value[0], shap_values_xgb_class[0][index,:], \n",
    "                features = X_test_transformed_xgb_class[index,:],feature_names = df.columns[3:], plot_cmap=\"PkYg\")"
   ]
  },
  {
   "cell_type": "code",
   "execution_count": 640,
   "metadata": {},
   "outputs": [
    {
     "name": "stdout",
     "output_type": "stream",
     "text": [
      "0.41551834\n"
     ]
    },
    {
     "data": {
      "text/html": [
       "\n",
       "<div id='iWMJNSNZNKZK5RZEM3I4E'>\n",
       "<div style='color: #900; text-align: center;'>\n",
       "  <b>Visualization omitted, Javascript library not loaded!</b><br>\n",
       "  Have you run `initjs()` in this notebook? If this notebook was from another\n",
       "  user you must also trust this notebook (File -> Trust notebook). If you are viewing\n",
       "  this notebook on github the Javascript has been stripped for security. If you are using\n",
       "  JupyterLab this error is because a JupyterLab extension has not yet been written.\n",
       "</div></div>\n",
       " <script>\n",
       "   if (window.SHAP) SHAP.ReactDom.render(\n",
       "    SHAP.React.createElement(SHAP.AdditiveForceVisualizer, {\"outNames\": [\"output value\"], \"baseValue\": 0.4155183434486389, \"outValue\": -2.447113037109375, \"link\": \"identity\", \"featureNames\": [\"Y0\", \"Z0\", \"X1\", \"Y1\", \"Z1\", \"X2\", \"Y2\", \"Z2\", \"X3\", \"Y3\", \"Z3\", \"X4\", \"Y4\", \"Z4\", \"X5\", \"Y5\", \"Z5\", \"X6\", \"Y6\", \"Z6\", \"X7\", \"Y7\", \"Z7\", \"X8\", \"Y8\", \"Z8\", \"X9\", \"Y9\", \"Z9\", \"X10\", \"Y10\", \"Z10\", \"Missing_marker_num\"], \"features\": {\"0\": {\"effect\": 0.021277135238051414, \"value\": 0.6973882934646649}, \"1\": {\"effect\": -0.05718233808875084, \"value\": 0.5598174428305622}, \"2\": {\"effect\": -0.06907337158918381, \"value\": 0.17288316142763416}, \"3\": {\"effect\": 0.002386171370744705, \"value\": 0.6073318973883467}, \"4\": {\"effect\": -0.028759600594639778, \"value\": 0.6081902833107641}, \"5\": {\"effect\": -0.11943481862545013, \"value\": 0.29129267323998564}, \"6\": {\"effect\": 0.008351792581379414, \"value\": 0.4722430649855771}, \"7\": {\"effect\": -0.006316401995718479, \"value\": 0.6239202965092926}, \"8\": {\"effect\": -0.029998427256941795, \"value\": 0.36757441337229907}, \"9\": {\"effect\": -6.135216972324997e-05, \"value\": 0.5268850241000365}, \"10\": {\"effect\": -0.003385853720828891, \"value\": 0.6001480385793395}, \"11\": {\"effect\": -0.17885439097881317, \"value\": 0.29350891665218154}, \"12\": {\"effect\": 0.02524745650589466, \"value\": 0.6255396789847016}, \"13\": {\"effect\": 0.3864162862300873, \"value\": 0.28063506332309673}, \"14\": {\"effect\": -0.11033031344413757, \"value\": 0.1954342121687958}, \"15\": {\"effect\": 0.034455958753824234, \"value\": 0.7108221547889}, \"16\": {\"effect\": 0.04046187549829483, \"value\": 0.44022162252666186}, \"17\": {\"effect\": -0.4551706314086914, \"value\": 0.1319050468442397}, \"18\": {\"effect\": 0.0030218036845326424, \"value\": NaN}, \"19\": {\"effect\": -0.027473581954836845, \"value\": NaN}, \"20\": {\"effect\": -0.15537334978580475, \"value\": NaN}, \"21\": {\"effect\": -0.4371778666973114, \"value\": NaN}, \"22\": {\"effect\": -0.008983015082776546, \"value\": NaN}, \"23\": {\"effect\": -0.014819903299212456, \"value\": NaN}, \"24\": {\"effect\": -0.5323793292045593, \"value\": NaN}, \"25\": {\"effect\": -0.004558794666081667, \"value\": NaN}, \"26\": {\"effect\": -0.09135773032903671, \"value\": NaN}, \"27\": {\"effect\": -0.3205904960632324, \"value\": NaN}, \"28\": {\"effect\": -0.021411508321762085, \"value\": NaN}, \"29\": {\"effect\": -0.05716646462678909, \"value\": NaN}, \"30\": {\"effect\": -0.4214071035385132, \"value\": NaN}, \"31\": {\"effect\": -0.07935906201601028, \"value\": NaN}, \"32\": {\"effect\": -0.1536240428686142, \"value\": NaN}}, \"plot_cmap\": \"PkYg\", \"labelMargin\": 20}),\n",
       "    document.getElementById('iWMJNSNZNKZK5RZEM3I4E')\n",
       "  );\n",
       "</script>"
      ],
      "text/plain": [
       "<IPython.core.display.HTML object>"
      ]
     },
     "execution_count": 640,
     "metadata": {},
     "output_type": "execute_result"
    }
   ],
   "source": [
    "index = 5 # the index of the point to explain\n",
    "print(explainer_xgb_class.expected_value[1]) # we explain class 1 predictions\n",
    "shap.force_plot(explainer_xgb_class.expected_value[1], shap_values_xgb_class[1][index,:], \n",
    "                features = X_test_transformed_xgb_class[index,:],feature_names = df.columns[3:], plot_cmap=\"PkYg\")"
   ]
  },
  {
   "cell_type": "code",
   "execution_count": 641,
   "metadata": {},
   "outputs": [
    {
     "name": "stdout",
     "output_type": "stream",
     "text": [
      "0.643505\n"
     ]
    },
    {
     "data": {
      "text/html": [
       "\n",
       "<div id='iVF99Q06VFVFB4LSZVJZH'>\n",
       "<div style='color: #900; text-align: center;'>\n",
       "  <b>Visualization omitted, Javascript library not loaded!</b><br>\n",
       "  Have you run `initjs()` in this notebook? If this notebook was from another\n",
       "  user you must also trust this notebook (File -> Trust notebook). If you are viewing\n",
       "  this notebook on github the Javascript has been stripped for security. If you are using\n",
       "  JupyterLab this error is because a JupyterLab extension has not yet been written.\n",
       "</div></div>\n",
       " <script>\n",
       "   if (window.SHAP) SHAP.ReactDom.render(\n",
       "    SHAP.React.createElement(SHAP.AdditiveForceVisualizer, {\"outNames\": [\"output value\"], \"baseValue\": 0.6435049772262573, \"outValue\": 1.2282882928848267, \"link\": \"identity\", \"featureNames\": [\"Y0\", \"Z0\", \"X1\", \"Y1\", \"Z1\", \"X2\", \"Y2\", \"Z2\", \"X3\", \"Y3\", \"Z3\", \"X4\", \"Y4\", \"Z4\", \"X5\", \"Y5\", \"Z5\", \"X6\", \"Y6\", \"Z6\", \"X7\", \"Y7\", \"Z7\", \"X8\", \"Y8\", \"Z8\", \"X9\", \"Y9\", \"Z9\", \"X10\", \"Y10\", \"Z10\", \"Missing_marker_num\"], \"features\": {\"0\": {\"effect\": 0.4478659927845001, \"value\": 0.6973882934646649}, \"1\": {\"effect\": 0.042380452156066895, \"value\": 0.5598174428305622}, \"2\": {\"effect\": -0.13718253374099731, \"value\": 0.17288316142763416}, \"3\": {\"effect\": 0.21761156618595123, \"value\": 0.6073318973883467}, \"4\": {\"effect\": -0.038734618574380875, \"value\": 0.6081902833107641}, \"5\": {\"effect\": -0.2746523320674896, \"value\": 0.29129267323998564}, \"6\": {\"effect\": -0.2109130471944809, \"value\": 0.4722430649855771}, \"7\": {\"effect\": -0.030904091894626617, \"value\": 0.6239202965092926}, \"8\": {\"effect\": 0.0688357725739479, \"value\": 0.36757441337229907}, \"9\": {\"effect\": -0.08694706112146378, \"value\": 0.5268850241000365}, \"10\": {\"effect\": -0.03765973076224327, \"value\": 0.6001480385793395}, \"11\": {\"effect\": -0.21350786089897156, \"value\": 0.29350891665218154}, \"12\": {\"effect\": 0.028142428025603294, \"value\": 0.6255396789847016}, \"13\": {\"effect\": 0.2507445514202118, \"value\": 0.28063506332309673}, \"14\": {\"effect\": -0.07488929480314255, \"value\": 0.1954342121687958}, \"15\": {\"effect\": -0.04834393784403801, \"value\": 0.7108221547889}, \"16\": {\"effect\": 0.09902539849281311, \"value\": 0.44022162252666186}, \"17\": {\"effect\": -0.1261969357728958, \"value\": 0.1319050468442397}, \"18\": {\"effect\": 0.032552145421504974, \"value\": NaN}, \"19\": {\"effect\": 0.018340084701776505, \"value\": NaN}, \"20\": {\"effect\": 0.019405147060751915, \"value\": NaN}, \"21\": {\"effect\": 0.004236128181219101, \"value\": NaN}, \"22\": {\"effect\": -0.01149042509496212, \"value\": NaN}, \"23\": {\"effect\": -0.007912213914096355, \"value\": NaN}, \"24\": {\"effect\": 0.5804576277732849, \"value\": NaN}, \"25\": {\"effect\": 0.06006644293665886, \"value\": NaN}, \"26\": {\"effect\": 0.0036700281780213118, \"value\": NaN}, \"27\": {\"effect\": 0.010777657851576805, \"value\": NaN}, \"28\": {\"effect\": 5.953416348347673e-06, \"value\": NaN}}, \"plot_cmap\": \"PkYg\", \"labelMargin\": 20}),\n",
       "    document.getElementById('iVF99Q06VFVFB4LSZVJZH')\n",
       "  );\n",
       "</script>"
      ],
      "text/plain": [
       "<IPython.core.display.HTML object>"
      ]
     },
     "execution_count": 641,
     "metadata": {},
     "output_type": "execute_result"
    }
   ],
   "source": [
    "index = 5 # the index of the point to explain\n",
    "print(explainer_xgb_class.expected_value[2]) # we explain class 2 predictions\n",
    "shap.force_plot(explainer_xgb_class.expected_value[2], shap_values_xgb_class[2][index,:], \n",
    "                features = X_test_transformed_xgb_class[index,:],feature_names = df.columns[3:], plot_cmap=\"PkYg\")"
   ]
  },
  {
   "cell_type": "code",
   "execution_count": 642,
   "metadata": {},
   "outputs": [
    {
     "name": "stdout",
     "output_type": "stream",
     "text": [
      "0.44737414\n"
     ]
    },
    {
     "data": {
      "text/html": [
       "\n",
       "<div id='iIATQTN456WXICT4M4AC0'>\n",
       "<div style='color: #900; text-align: center;'>\n",
       "  <b>Visualization omitted, Javascript library not loaded!</b><br>\n",
       "  Have you run `initjs()` in this notebook? If this notebook was from another\n",
       "  user you must also trust this notebook (File -> Trust notebook). If you are viewing\n",
       "  this notebook on github the Javascript has been stripped for security. If you are using\n",
       "  JupyterLab this error is because a JupyterLab extension has not yet been written.\n",
       "</div></div>\n",
       " <script>\n",
       "   if (window.SHAP) SHAP.ReactDom.render(\n",
       "    SHAP.React.createElement(SHAP.AdditiveForceVisualizer, {\"outNames\": [\"output value\"], \"baseValue\": 0.4473741352558136, \"outValue\": -0.5548322200775146, \"link\": \"identity\", \"featureNames\": [\"Y0\", \"Z0\", \"X1\", \"Y1\", \"Z1\", \"X2\", \"Y2\", \"Z2\", \"X3\", \"Y3\", \"Z3\", \"X4\", \"Y4\", \"Z4\", \"X5\", \"Y5\", \"Z5\", \"X6\", \"Y6\", \"Z6\", \"X7\", \"Y7\", \"Z7\", \"X8\", \"Y8\", \"Z8\", \"X9\", \"Y9\", \"Z9\", \"X10\", \"Y10\", \"Z10\", \"Missing_marker_num\"], \"features\": {\"0\": {\"effect\": 0.025986965745687485, \"value\": 0.6973882934646649}, \"1\": {\"effect\": -0.05290287360548973, \"value\": 0.5598174428305622}, \"2\": {\"effect\": -0.027296964079141617, \"value\": 0.17288316142763416}, \"3\": {\"effect\": 0.02989259548485279, \"value\": 0.6073318973883467}, \"4\": {\"effect\": -0.06789486855268478, \"value\": 0.6081902833107641}, \"5\": {\"effect\": -0.0005269489483907819, \"value\": 0.29129267323998564}, \"6\": {\"effect\": 0.03759170323610306, \"value\": 0.4722430649855771}, \"7\": {\"effect\": -0.19744445383548737, \"value\": 0.6239202965092926}, \"8\": {\"effect\": -0.00653111794963479, \"value\": 0.36757441337229907}, \"9\": {\"effect\": -0.13508565723896027, \"value\": 0.5268850241000365}, \"10\": {\"effect\": 0.16650612652301788, \"value\": 0.6001480385793395}, \"11\": {\"effect\": -0.04112374782562256, \"value\": 0.29350891665218154}, \"12\": {\"effect\": -0.012585203163325787, \"value\": 0.6255396789847016}, \"13\": {\"effect\": -0.017251407727599144, \"value\": 0.28063506332309673}, \"14\": {\"effect\": -0.0656902864575386, \"value\": 0.1954342121687958}, \"15\": {\"effect\": 0.05951162427663803, \"value\": 0.7108221547889}, \"16\": {\"effect\": 0.1071421355009079, \"value\": 0.44022162252666186}, \"17\": {\"effect\": -0.9346544146537781, \"value\": 0.1319050468442397}, \"18\": {\"effect\": -0.06745892018079758, \"value\": NaN}, \"19\": {\"effect\": -0.019061025232076645, \"value\": NaN}, \"20\": {\"effect\": 0.0007700419519096613, \"value\": NaN}, \"21\": {\"effect\": -0.007423792500048876, \"value\": NaN}, \"22\": {\"effect\": -0.003209375776350498, \"value\": NaN}, \"23\": {\"effect\": -0.013062696903944016, \"value\": NaN}, \"24\": {\"effect\": -0.004769684746861458, \"value\": NaN}, \"25\": {\"effect\": -0.012436255812644958, \"value\": NaN}, \"26\": {\"effect\": -0.017165519297122955, \"value\": NaN}, \"27\": {\"effect\": 0.2276000827550888, \"value\": NaN}, \"28\": {\"effect\": 0.04309968277812004, \"value\": NaN}, \"29\": {\"effect\": 0.003267967840656638, \"value\": NaN}}, \"plot_cmap\": \"PkYg\", \"labelMargin\": 20}),\n",
       "    document.getElementById('iIATQTN456WXICT4M4AC0')\n",
       "  );\n",
       "</script>"
      ],
      "text/plain": [
       "<IPython.core.display.HTML object>"
      ]
     },
     "execution_count": 642,
     "metadata": {},
     "output_type": "execute_result"
    }
   ],
   "source": [
    "index = 5 # the index of the point to explain\n",
    "print(explainer_xgb_class.expected_value[3]) # we explain class 3 predictions\n",
    "shap.force_plot(explainer_xgb_class.expected_value[3], shap_values_xgb_class[3][index,:], \n",
    "                features = X_test_transformed_xgb_class[index,:],feature_names = df.columns[3:], plot_cmap=\"PkYg\")"
   ]
  },
  {
   "cell_type": "code",
   "execution_count": 643,
   "metadata": {},
   "outputs": [
    {
     "name": "stdout",
     "output_type": "stream",
     "text": [
      "0.54304963\n"
     ]
    },
    {
     "data": {
      "text/html": [
       "\n",
       "<div id='i331Q2DIROPN7RP7IJKDL'>\n",
       "<div style='color: #900; text-align: center;'>\n",
       "  <b>Visualization omitted, Javascript library not loaded!</b><br>\n",
       "  Have you run `initjs()` in this notebook? If this notebook was from another\n",
       "  user you must also trust this notebook (File -> Trust notebook). If you are viewing\n",
       "  this notebook on github the Javascript has been stripped for security. If you are using\n",
       "  JupyterLab this error is because a JupyterLab extension has not yet been written.\n",
       "</div></div>\n",
       " <script>\n",
       "   if (window.SHAP) SHAP.ReactDom.render(\n",
       "    SHAP.React.createElement(SHAP.AdditiveForceVisualizer, {\"outNames\": [\"output value\"], \"baseValue\": 0.5430496335029602, \"outValue\": -2.3485488891601562, \"link\": \"identity\", \"featureNames\": [\"Y0\", \"Z0\", \"X1\", \"Y1\", \"Z1\", \"X2\", \"Y2\", \"Z2\", \"X3\", \"Y3\", \"Z3\", \"X4\", \"Y4\", \"Z4\", \"X5\", \"Y5\", \"Z5\", \"X6\", \"Y6\", \"Z6\", \"X7\", \"Y7\", \"Z7\", \"X8\", \"Y8\", \"Z8\", \"X9\", \"Y9\", \"Z9\", \"X10\", \"Y10\", \"Z10\", \"Missing_marker_num\"], \"features\": {\"0\": {\"effect\": -0.01976807974278927, \"value\": 0.6973882934646649}, \"1\": {\"effect\": -0.07402090728282928, \"value\": 0.5598174428305622}, \"2\": {\"effect\": 0.12567444145679474, \"value\": 0.17288316142763416}, \"3\": {\"effect\": -0.02087390050292015, \"value\": 0.6073318973883467}, \"4\": {\"effect\": 0.04145084694027901, \"value\": 0.6081902833107641}, \"5\": {\"effect\": 0.13829036056995392, \"value\": 0.29129267323998564}, \"6\": {\"effect\": -0.025455128401517868, \"value\": 0.4722430649855771}, \"7\": {\"effect\": 0.02443484403192997, \"value\": 0.6239202965092926}, \"8\": {\"effect\": -0.01953587494790554, \"value\": 0.36757441337229907}, \"9\": {\"effect\": -0.014232768677175045, \"value\": 0.5268850241000365}, \"10\": {\"effect\": 0.03621876239776611, \"value\": 0.6001480385793395}, \"11\": {\"effect\": -0.016016116365790367, \"value\": 0.29350891665218154}, \"12\": {\"effect\": -0.05722479522228241, \"value\": 0.6255396789847016}, \"13\": {\"effect\": -0.11022642999887466, \"value\": 0.28063506332309673}, \"14\": {\"effect\": 0.11796215176582336, \"value\": 0.1954342121687958}, \"15\": {\"effect\": 0.01592329889535904, \"value\": 0.7108221547889}, \"16\": {\"effect\": -0.169630229473114, \"value\": 0.44022162252666186}, \"17\": {\"effect\": 0.18568634986877441, \"value\": 0.1319050468442397}, \"18\": {\"effect\": -0.003054554108530283, \"value\": NaN}, \"19\": {\"effect\": -0.9635874032974243, \"value\": NaN}, \"20\": {\"effect\": -0.05665232986211777, \"value\": NaN}, \"21\": {\"effect\": -0.03898211941123009, \"value\": NaN}, \"22\": {\"effect\": -1.2542402744293213, \"value\": NaN}, \"23\": {\"effect\": -0.12037542462348938, \"value\": NaN}, \"24\": {\"effect\": -0.04399833455681801, \"value\": NaN}, \"25\": {\"effect\": -0.45930325984954834, \"value\": NaN}, \"26\": {\"effect\": -0.1310894638299942, \"value\": NaN}, \"27\": {\"effect\": -0.009920058771967888, \"value\": NaN}, \"28\": {\"effect\": -0.033231910318136215, \"value\": NaN}, \"29\": {\"effect\": -0.008902974426746368, \"value\": NaN}, \"30\": {\"effect\": 0.028398951515555382, \"value\": NaN}, \"31\": {\"effect\": 0.01446748897433281, \"value\": NaN}, \"32\": {\"effect\": 0.030216103419661522, \"value\": NaN}}, \"plot_cmap\": \"PkYg\", \"labelMargin\": 20}),\n",
       "    document.getElementById('i331Q2DIROPN7RP7IJKDL')\n",
       "  );\n",
       "</script>"
      ],
      "text/plain": [
       "<IPython.core.display.HTML object>"
      ]
     },
     "execution_count": 643,
     "metadata": {},
     "output_type": "execute_result"
    }
   ],
   "source": [
    "index = 5 # the index of the point to explain\n",
    "print(explainer_xgb_class.expected_value[4]) # we explain class 4 predictions\n",
    "shap.force_plot(explainer_xgb_class.expected_value[4], shap_values_xgb_class[4][index,:], \n",
    "                features = X_test_transformed_xgb_class[index,:],feature_names = df.columns[3:], plot_cmap=\"PkYg\")"
   ]
  },
  {
   "cell_type": "markdown",
   "metadata": {},
   "source": [
    "### 2.1.2 SVC\n",
    "* Use only marker 0-4, because they almost have no missing values\n",
    "* Impute missing value with random forest"
   ]
  },
  {
   "cell_type": "markdown",
   "metadata": {},
   "source": [
    "#### 2.1.2.1 Split train, cv test for SVC\n",
    "Split and impute data, only keep features missing less than 5%"
   ]
  },
  {
   "cell_type": "code",
   "execution_count": 62,
   "metadata": {},
   "outputs": [
    {
     "name": "stdout",
     "output_type": "stream",
     "text": [
      "Test: \n",
      "proportion: 0.2097957615724438\n",
      "rows: 16384\n",
      "########################################\n",
      "Train: \n",
      "proportion: 0.5750816313464371\n",
      "rows: 44911\n",
      "########################################\n",
      "CV: \n",
      "proportion: 0.21512260708111916\n",
      "rows: 16800\n"
     ]
    }
   ],
   "source": [
    "# User 8, 10 as test set, 20.98% of all the data\n",
    "class_test_list_impute = [8, 10]\n",
    "print(\"Test: \")\n",
    "x_class_test_impute, y_class_test_impute = extract_data(class_test_list_impute, 'User', 'Class', impute=True)\n",
    "print(\"########################################\")\n",
    "\n",
    "# User 0, 1, 2, 4, 5, 6, 7, 9, 12, 14 as train set, 57.51% of all the data\n",
    "class_train_list_impute = [0, 1, 2, 4, 5, 6, 7, 9, 12, 14]\n",
    "print(\"Train: \")\n",
    "x_class_train_impute, y_class_train_impute = extract_data(class_train_list_impute, 'User', 'Class', impute=True)\n",
    "print(\"########################################\")\n",
    "\n",
    "# User 11, 13 as test set, 21.51% of all the data\n",
    "class_cv_list_impute = [11, 13]\n",
    "print(\"CV: \")\n",
    "x_class_cv_impute, y_class_cv_impute = extract_data(class_cv_list_impute, 'User', 'Class', impute=True)"
   ]
  },
  {
   "cell_type": "markdown",
   "metadata": {},
   "source": [
    "#### 2.1.2.2 Tune hyperparameters\n",
    "Find the best $C$, $\\gamma$ and for SVC.  "
   ]
  },
  {
   "cell_type": "code",
   "execution_count": 232,
   "metadata": {},
   "outputs": [],
   "source": [
    "# tune C and gamma\n",
    "Cs = np.logspace(-5, 5, 5)\n",
    "gammas = np.logspace(-5, 5, 5)\n",
    "\n",
    "svc_para = {\"SVC\": [], \"C\":[], \"gamma\":[], \"accuracy_cv\":[]}\n",
    "for C_train in Cs:\n",
    "    for gamma_train in gammas:\n",
    "        # Fit model\n",
    "        sv_classif = SVC(C=C_train, gamma=gamma_train)\n",
    "        sv_classif.fit(x_class_train_impute, y_class_train_impute)\n",
    "        # Accuracy for cv\n",
    "        y_class_cv_impute_pred = sv_classif.predict(x_class_cv_impute)\n",
    "        svc_para[\"accuracy_cv\"].append(accuracy_score(y_class_cv_impute, y_class_cv_impute_pred))\n",
    "        svc_para[\"C\"].append(C_train)\n",
    "        svc_para[\"gamma\"].append(gamma_train)\n",
    "        svc_para[\"SVC\"].append(sv_classif)"
   ]
  },
  {
   "cell_type": "code",
   "execution_count": 233,
   "metadata": {
    "scrolled": true
   },
   "outputs": [
    {
     "data": {
      "text/html": [
       "<div>\n",
       "<style scoped>\n",
       "    .dataframe tbody tr th:only-of-type {\n",
       "        vertical-align: middle;\n",
       "    }\n",
       "\n",
       "    .dataframe tbody tr th {\n",
       "        vertical-align: top;\n",
       "    }\n",
       "\n",
       "    .dataframe thead th {\n",
       "        text-align: right;\n",
       "    }\n",
       "</style>\n",
       "<table border=\"1\" class=\"dataframe\">\n",
       "  <thead>\n",
       "    <tr style=\"text-align: right;\">\n",
       "      <th></th>\n",
       "      <th>SVC</th>\n",
       "      <th>C</th>\n",
       "      <th>gamma</th>\n",
       "      <th>accuracy_cv</th>\n",
       "    </tr>\n",
       "  </thead>\n",
       "  <tbody>\n",
       "    <tr>\n",
       "      <th>7</th>\n",
       "      <td>SVC(C=0.0031622776601683794, cache_size=200, c...</td>\n",
       "      <td>0.003162</td>\n",
       "      <td>1.000000</td>\n",
       "      <td>0.649405</td>\n",
       "    </tr>\n",
       "    <tr>\n",
       "      <th>11</th>\n",
       "      <td>SVC(C=1.0, cache_size=200, class_weight=None, ...</td>\n",
       "      <td>1.000000</td>\n",
       "      <td>0.003162</td>\n",
       "      <td>0.625238</td>\n",
       "    </tr>\n",
       "    <tr>\n",
       "      <th>15</th>\n",
       "      <td>SVC(C=316.22776601683796, cache_size=200, clas...</td>\n",
       "      <td>316.227766</td>\n",
       "      <td>0.000010</td>\n",
       "      <td>0.625060</td>\n",
       "    </tr>\n",
       "    <tr>\n",
       "      <th>21</th>\n",
       "      <td>SVC(C=100000.0, cache_size=200, class_weight=N...</td>\n",
       "      <td>100000.000000</td>\n",
       "      <td>0.003162</td>\n",
       "      <td>0.601429</td>\n",
       "    </tr>\n",
       "    <tr>\n",
       "      <th>16</th>\n",
       "      <td>SVC(C=316.22776601683796, cache_size=200, clas...</td>\n",
       "      <td>316.227766</td>\n",
       "      <td>0.003162</td>\n",
       "      <td>0.589107</td>\n",
       "    </tr>\n",
       "    <tr>\n",
       "      <th>20</th>\n",
       "      <td>SVC(C=100000.0, cache_size=200, class_weight=N...</td>\n",
       "      <td>100000.000000</td>\n",
       "      <td>0.000010</td>\n",
       "      <td>0.583155</td>\n",
       "    </tr>\n",
       "    <tr>\n",
       "      <th>12</th>\n",
       "      <td>SVC(C=1.0, cache_size=200, class_weight=None, ...</td>\n",
       "      <td>1.000000</td>\n",
       "      <td>1.000000</td>\n",
       "      <td>0.541667</td>\n",
       "    </tr>\n",
       "    <tr>\n",
       "      <th>22</th>\n",
       "      <td>SVC(C=100000.0, cache_size=200, class_weight=N...</td>\n",
       "      <td>100000.000000</td>\n",
       "      <td>1.000000</td>\n",
       "      <td>0.476131</td>\n",
       "    </tr>\n",
       "    <tr>\n",
       "      <th>17</th>\n",
       "      <td>SVC(C=316.22776601683796, cache_size=200, clas...</td>\n",
       "      <td>316.227766</td>\n",
       "      <td>1.000000</td>\n",
       "      <td>0.441905</td>\n",
       "    </tr>\n",
       "    <tr>\n",
       "      <th>14</th>\n",
       "      <td>SVC(C=1.0, cache_size=200, class_weight=None, ...</td>\n",
       "      <td>1.000000</td>\n",
       "      <td>100000.000000</td>\n",
       "      <td>0.185298</td>\n",
       "    </tr>\n",
       "    <tr>\n",
       "      <th>23</th>\n",
       "      <td>SVC(C=100000.0, cache_size=200, class_weight=N...</td>\n",
       "      <td>100000.000000</td>\n",
       "      <td>316.227766</td>\n",
       "      <td>0.185298</td>\n",
       "    </tr>\n",
       "    <tr>\n",
       "      <th>19</th>\n",
       "      <td>SVC(C=316.22776601683796, cache_size=200, clas...</td>\n",
       "      <td>316.227766</td>\n",
       "      <td>100000.000000</td>\n",
       "      <td>0.185298</td>\n",
       "    </tr>\n",
       "    <tr>\n",
       "      <th>18</th>\n",
       "      <td>SVC(C=316.22776601683796, cache_size=200, clas...</td>\n",
       "      <td>316.227766</td>\n",
       "      <td>316.227766</td>\n",
       "      <td>0.185298</td>\n",
       "    </tr>\n",
       "    <tr>\n",
       "      <th>0</th>\n",
       "      <td>SVC(C=1e-05, cache_size=200, class_weight=None...</td>\n",
       "      <td>0.000010</td>\n",
       "      <td>0.000010</td>\n",
       "      <td>0.185298</td>\n",
       "    </tr>\n",
       "    <tr>\n",
       "      <th>13</th>\n",
       "      <td>SVC(C=1.0, cache_size=200, class_weight=None, ...</td>\n",
       "      <td>1.000000</td>\n",
       "      <td>316.227766</td>\n",
       "      <td>0.185298</td>\n",
       "    </tr>\n",
       "    <tr>\n",
       "      <th>1</th>\n",
       "      <td>SVC(C=1e-05, cache_size=200, class_weight=None...</td>\n",
       "      <td>0.000010</td>\n",
       "      <td>0.003162</td>\n",
       "      <td>0.185298</td>\n",
       "    </tr>\n",
       "    <tr>\n",
       "      <th>10</th>\n",
       "      <td>SVC(C=1.0, cache_size=200, class_weight=None, ...</td>\n",
       "      <td>1.000000</td>\n",
       "      <td>0.000010</td>\n",
       "      <td>0.185298</td>\n",
       "    </tr>\n",
       "    <tr>\n",
       "      <th>9</th>\n",
       "      <td>SVC(C=0.0031622776601683794, cache_size=200, c...</td>\n",
       "      <td>0.003162</td>\n",
       "      <td>100000.000000</td>\n",
       "      <td>0.185298</td>\n",
       "    </tr>\n",
       "    <tr>\n",
       "      <th>8</th>\n",
       "      <td>SVC(C=0.0031622776601683794, cache_size=200, c...</td>\n",
       "      <td>0.003162</td>\n",
       "      <td>316.227766</td>\n",
       "      <td>0.185298</td>\n",
       "    </tr>\n",
       "    <tr>\n",
       "      <th>6</th>\n",
       "      <td>SVC(C=0.0031622776601683794, cache_size=200, c...</td>\n",
       "      <td>0.003162</td>\n",
       "      <td>0.003162</td>\n",
       "      <td>0.185298</td>\n",
       "    </tr>\n",
       "    <tr>\n",
       "      <th>5</th>\n",
       "      <td>SVC(C=0.0031622776601683794, cache_size=200, c...</td>\n",
       "      <td>0.003162</td>\n",
       "      <td>0.000010</td>\n",
       "      <td>0.185298</td>\n",
       "    </tr>\n",
       "    <tr>\n",
       "      <th>4</th>\n",
       "      <td>SVC(C=1e-05, cache_size=200, class_weight=None...</td>\n",
       "      <td>0.000010</td>\n",
       "      <td>100000.000000</td>\n",
       "      <td>0.185298</td>\n",
       "    </tr>\n",
       "    <tr>\n",
       "      <th>3</th>\n",
       "      <td>SVC(C=1e-05, cache_size=200, class_weight=None...</td>\n",
       "      <td>0.000010</td>\n",
       "      <td>316.227766</td>\n",
       "      <td>0.185298</td>\n",
       "    </tr>\n",
       "    <tr>\n",
       "      <th>2</th>\n",
       "      <td>SVC(C=1e-05, cache_size=200, class_weight=None...</td>\n",
       "      <td>0.000010</td>\n",
       "      <td>1.000000</td>\n",
       "      <td>0.185298</td>\n",
       "    </tr>\n",
       "    <tr>\n",
       "      <th>24</th>\n",
       "      <td>SVC(C=100000.0, cache_size=200, class_weight=N...</td>\n",
       "      <td>100000.000000</td>\n",
       "      <td>100000.000000</td>\n",
       "      <td>0.185298</td>\n",
       "    </tr>\n",
       "  </tbody>\n",
       "</table>\n",
       "</div>"
      ],
      "text/plain": [
       "                                                  SVC              C  \\\n",
       "7   SVC(C=0.0031622776601683794, cache_size=200, c...       0.003162   \n",
       "11  SVC(C=1.0, cache_size=200, class_weight=None, ...       1.000000   \n",
       "15  SVC(C=316.22776601683796, cache_size=200, clas...     316.227766   \n",
       "21  SVC(C=100000.0, cache_size=200, class_weight=N...  100000.000000   \n",
       "16  SVC(C=316.22776601683796, cache_size=200, clas...     316.227766   \n",
       "20  SVC(C=100000.0, cache_size=200, class_weight=N...  100000.000000   \n",
       "12  SVC(C=1.0, cache_size=200, class_weight=None, ...       1.000000   \n",
       "22  SVC(C=100000.0, cache_size=200, class_weight=N...  100000.000000   \n",
       "17  SVC(C=316.22776601683796, cache_size=200, clas...     316.227766   \n",
       "14  SVC(C=1.0, cache_size=200, class_weight=None, ...       1.000000   \n",
       "23  SVC(C=100000.0, cache_size=200, class_weight=N...  100000.000000   \n",
       "19  SVC(C=316.22776601683796, cache_size=200, clas...     316.227766   \n",
       "18  SVC(C=316.22776601683796, cache_size=200, clas...     316.227766   \n",
       "0   SVC(C=1e-05, cache_size=200, class_weight=None...       0.000010   \n",
       "13  SVC(C=1.0, cache_size=200, class_weight=None, ...       1.000000   \n",
       "1   SVC(C=1e-05, cache_size=200, class_weight=None...       0.000010   \n",
       "10  SVC(C=1.0, cache_size=200, class_weight=None, ...       1.000000   \n",
       "9   SVC(C=0.0031622776601683794, cache_size=200, c...       0.003162   \n",
       "8   SVC(C=0.0031622776601683794, cache_size=200, c...       0.003162   \n",
       "6   SVC(C=0.0031622776601683794, cache_size=200, c...       0.003162   \n",
       "5   SVC(C=0.0031622776601683794, cache_size=200, c...       0.003162   \n",
       "4   SVC(C=1e-05, cache_size=200, class_weight=None...       0.000010   \n",
       "3   SVC(C=1e-05, cache_size=200, class_weight=None...       0.000010   \n",
       "2   SVC(C=1e-05, cache_size=200, class_weight=None...       0.000010   \n",
       "24  SVC(C=100000.0, cache_size=200, class_weight=N...  100000.000000   \n",
       "\n",
       "            gamma  accuracy_cv  \n",
       "7        1.000000     0.649405  \n",
       "11       0.003162     0.625238  \n",
       "15       0.000010     0.625060  \n",
       "21       0.003162     0.601429  \n",
       "16       0.003162     0.589107  \n",
       "20       0.000010     0.583155  \n",
       "12       1.000000     0.541667  \n",
       "22       1.000000     0.476131  \n",
       "17       1.000000     0.441905  \n",
       "14  100000.000000     0.185298  \n",
       "23     316.227766     0.185298  \n",
       "19  100000.000000     0.185298  \n",
       "18     316.227766     0.185298  \n",
       "0        0.000010     0.185298  \n",
       "13     316.227766     0.185298  \n",
       "1        0.003162     0.185298  \n",
       "10       0.000010     0.185298  \n",
       "9   100000.000000     0.185298  \n",
       "8      316.227766     0.185298  \n",
       "6        0.003162     0.185298  \n",
       "5        0.000010     0.185298  \n",
       "4   100000.000000     0.185298  \n",
       "3      316.227766     0.185298  \n",
       "2        1.000000     0.185298  \n",
       "24  100000.000000     0.185298  "
      ]
     },
     "execution_count": 233,
     "metadata": {},
     "output_type": "execute_result"
    }
   ],
   "source": [
    "# Result for all SVC models on cv set\n",
    "df_svc = pd.DataFrame(svc_para)\n",
    "df_svc.sort_values(by=['accuracy_cv'], ascending=False)"
   ]
  },
  {
   "cell_type": "markdown",
   "metadata": {},
   "source": [
    "#### 2.1.2.3 Result of best model on test set"
   ]
  },
  {
   "cell_type": "code",
   "execution_count": 25,
   "metadata": {},
   "outputs": [
    {
     "name": "stdout",
     "output_type": "stream",
     "text": [
      "Test accuracy for the best SVC: 75.1953125%\n"
     ]
    },
    {
     "data": {
      "text/plain": [
       "array([[3339,   12,  143,    0,    0],\n",
       "       [   0, 2836,    0,    0,   37],\n",
       "       [   0,    2, 3648,  124,    4],\n",
       "       [   1,    5, 2372,  631,   45],\n",
       "       [   3,  311,  636,  369, 1866]], dtype=int64)"
      ]
     },
     "execution_count": 25,
     "metadata": {},
     "output_type": "execute_result"
    }
   ],
   "source": [
    "# Result of the best model on test set\n",
    "best_SVC = svc_para[\"SVC\"][np.argmax(svc_para[\"accuracy_cv\"])]\n",
    "y_class_test_impute_pred_svc = best_SVC.predict(x_class_test_impute)\n",
    "acc_score_svc = accuracy_score(y_class_test_impute, y_class_test_impute_pred_svc)\n",
    "print(f\"Test accuracy for the best SVC: {100*acc_score_svc}%\")\n",
    "confusion_matrix(y_class_test_impute, y_class_test_impute_pred_svc)"
   ]
  },
  {
   "cell_type": "code",
   "execution_count": 27,
   "metadata": {},
   "outputs": [
    {
     "data": {
      "image/png": "[encoded data removed]",
      "text/plain": [
       "<Figure size 504x504 with 1 Axes>"
      ]
     },
     "metadata": {
      "needs_background": "light"
     },
     "output_type": "display_data"
    }
   ],
   "source": [
    "# Confusion matrix for best SVC on test set\n",
    "df_cm_svc = pd.DataFrame(confusion_matrix(y_class_test_impute, y_class_test_impute_pred_svc), \n",
    "                         index=[i for i in \"12345\"], columns = [i for i in \"12345\"])\n",
    "plt.figure(figsize = (7,7))\n",
    "plt.title(\"Confusion Matrix for SVC, Predicting Gesture\")\n",
    "sn.heatmap(df_cm_svc, annot=True, fmt='g', cbar=False, \n",
    "           annot_kws={\"size\": 16}, cmap=\"Blues\")\n",
    "plt.xlabel(\"Predicted Label\")\n",
    "plt.ylabel(\"True Label\")\n",
    "plt.savefig('../figures/Confusion Matrix for SVC, Predicting Gesture.png',dpi=300)"
   ]
  },
  {
   "cell_type": "markdown",
   "metadata": {},
   "source": [
    "#### 2.1.2.4 Uncertainty created by random state on splitting"
   ]
  },
  {
   "cell_type": "code",
   "execution_count": 29,
   "metadata": {},
   "outputs": [],
   "source": [
    "def uncertainty_svc_class(test, train, cv):\n",
    "    x_class_test_impute, y_class_test_impute = extract_data(test, 'User', 'Class', impute=True)\n",
    "    x_class_train_impute, y_class_train_impute = extract_data(train, 'User', 'Class', impute=True)\n",
    "    x_class_cv_impute, y_class_cv_impute = extract_data(cv, 'User', 'Class', impute=True)\n",
    "    sv_classif = SVC(C=10**(-2.5), gamma=1.)\n",
    "    sv_classif.fit(x_class_train_impute, y_class_train_impute)\n",
    "    y_class_test_impute_pred_svc = sv_classif.predict(x_class_test_impute)\n",
    "    return accuracy_score(y_class_test_impute, y_class_test_impute_pred_svc), pd.DataFrame(confusion_matrix(y_class_test_impute, y_class_test_impute_pred_svc), \n",
    "                                                         index=[i for i in \"12345\"], columns = [i for i in \"12345\"])"
   ]
  },
  {
   "cell_type": "code",
   "execution_count": 30,
   "metadata": {},
   "outputs": [
    {
     "name": "stdout",
     "output_type": "stream",
     "text": [
      "proportion: 0.17625968371854792\n",
      "rows: 13765\n",
      "proportion: 0.6158652922722325\n",
      "rows: 48096\n",
      "proportion: 0.20787502400921953\n",
      "rows: 16234\n"
     ]
    }
   ],
   "source": [
    "# 2nd random state\n",
    "test_2 = [0, 1]\n",
    "train_2 = [2, 4, 5, 6, 7, 8, 9, 10, 11, 12]\n",
    "cv_2 = [13, 14]\n",
    "acc_score_svc_2, df_cm_svc_2 = uncertainty_svc_class(test_2, train_2, cv_2)"
   ]
  },
  {
   "cell_type": "code",
   "execution_count": 31,
   "metadata": {},
   "outputs": [
    {
     "name": "stdout",
     "output_type": "stream",
     "text": [
      "proportion: 0.1736474806325629\n",
      "rows: 13561\n",
      "proportion: 0.6271592291439912\n",
      "rows: 48978\n",
      "proportion: 0.1991932902234458\n",
      "rows: 15556\n"
     ]
    }
   ],
   "source": [
    "# 3rd random state\n",
    "test_3 = [0, 2]\n",
    "train_3 = [1, 4, 5, 6, 7, 8, 9, 10, 12, 13]\n",
    "cv_3 = [11, 14]\n",
    "acc_score_svc_3, df_cm_svc_3 = uncertainty_svc_class(test_3, train_3, cv_3)"
   ]
  },
  {
   "cell_type": "code",
   "execution_count": 32,
   "metadata": {},
   "outputs": [
    {
     "name": "stdout",
     "output_type": "stream",
     "text": [
      "proportion: 0.16969076125232088\n",
      "rows: 13252\n",
      "proportion: 0.6205134771752353\n",
      "rows: 48459\n",
      "proportion: 0.2097957615724438\n",
      "rows: 16384\n"
     ]
    }
   ],
   "source": [
    "# 4th random state\n",
    "test_4 = [2, 13]\n",
    "train_4 = [0, 1, 4, 5, 6, 7, 9, 11, 12, 14]\n",
    "cv_4 = [8, 10]\n",
    "acc_score_svc_4, df_cm_svc_4 = uncertainty_svc_class(test_4, train_4, cv_4)"
   ]
  },
  {
   "cell_type": "code",
   "execution_count": 33,
   "metadata": {},
   "outputs": [
    {
     "name": "stdout",
     "output_type": "stream",
     "text": [
      "proportion: 0.16794929252833088\n",
      "rows: 13116\n",
      "proportion: 0.639874511812536\n",
      "rows: 49971\n",
      "proportion: 0.1904347269351431\n",
      "rows: 14872\n"
     ]
    }
   ],
   "source": [
    "# 5th random state\n",
    "test_5 = [6, 13]\n",
    "train_5 = [0, 1, 4, 5, 6, 7, 9, 10, 12, 14]\n",
    "cv_5 = [8, 11]\n",
    "acc_score_svc_5, df_cm_svc_5 = uncertainty_svc_class(test_5, train_5, cv_5)"
   ]
  },
  {
   "cell_type": "code",
   "execution_count": 34,
   "metadata": {},
   "outputs": [
    {
     "name": "stdout",
     "output_type": "stream",
     "text": [
      "for class prediction, mean: 0.6156152618706798, std: 0.09858166843202507\n",
      "4.121777440416725 standard deviation above baseline\n"
     ]
    }
   ],
   "source": [
    "mean_acc_svc_class = np.mean([acc_score_svc, acc_score_svc_2, acc_score_svc_3, acc_score_svc_4, acc_score_svc_5])\n",
    "std_acc_svc_class = np.std([acc_score_svc, acc_score_svc_2, acc_score_svc_3, acc_score_svc_4, acc_score_svc_5])\n",
    "print(f\"for class prediction, mean: {mean_acc_svc_class}, std: {std_acc_svc_class}\")\n",
    "print(f\"{(mean_acc_svc_class-baseline_class)/std_acc_svc_class} standard deviation above baseline\")"
   ]
  },
  {
   "cell_type": "code",
   "execution_count": 35,
   "metadata": {},
   "outputs": [
    {
     "data": {
      "image/png": "[encoded data removed]",
      "text/plain": [
       "<Figure size 504x504 with 1 Axes>"
      ]
     },
     "metadata": {
      "needs_background": "light"
     },
     "output_type": "display_data"
    }
   ],
   "source": [
    "df_cm_svc_sum = df_cm_svc.add(df_cm_svc_2, fill_value=0).add(df_cm_svc_3, fill_value=0).add(df_cm_svc_4, fill_value=0).add(df_cm_svc_5, fill_value=0)\n",
    "df_cm_svc_sum_normalize = 100*df_cm_svc_sum.astype('float') / df_cm_svc_sum.sum(axis=1)[:, np.newaxis]\n",
    "plt.figure(figsize = (7,7))\n",
    "plt.title(\"Average Normalized Confusion Matrix for SVC, Predicting Gesture\")\n",
    "sn.heatmap(df_cm_svc_sum_normalize, annot=True, fmt='g', cbar=False, \n",
    "           annot_kws={\"size\": 12}, cmap=\"Blues\")\n",
    "plt.xlabel(\"Predicted Label\")\n",
    "plt.ylabel(\"True Label\")\n",
    "plt.savefig('../figures/Average Normalized Confusion Matrix for SVC, Predicting Gesture.png',dpi=300)"
   ]
  },
  {
   "cell_type": "markdown",
   "metadata": {},
   "source": [
    "#### 2.1.2.5 Local feature importance with svc"
   ]
  },
  {
   "cell_type": "code",
   "execution_count": 65,
   "metadata": {},
   "outputs": [],
   "source": [
    "sv_classif = SVC(C=10**(-2.5), gamma=1., probability=True)\n",
    "sv_classif.fit(x_class_train_impute, y_class_train_impute)\n",
    "best_SVC = sv_classif"
   ]
  },
  {
   "cell_type": "code",
   "execution_count": 66,
   "metadata": {},
   "outputs": [
    {
     "name": "stdout",
     "output_type": "stream",
     "text": [
      "(16384, 16)\n"
     ]
    },
    {
     "data": {
      "application/vnd.jupyter.widget-view+json": {
       "model_id": "",
       "version_major": 2,
       "version_minor": 0
      },
      "text/plain": [
       "HBox(children=(IntProgress(value=0, max=10), HTML(value='')))"
      ]
     },
     "metadata": {},
     "output_type": "display_data"
    },
    {
     "name": "stdout",
     "output_type": "stream",
     "text": [
      "\n",
      "(5, 10, 16)\n"
     ]
    }
   ],
   "source": [
    "# create the explainer object with the random forest model\n",
    "explainer_svc_class = shap.KernelExplainer(model=best_SVC.predict_proba, data=x_class_test_impute.iloc[0:10, :], link=\"logit\")\n",
    "# transform the test set\n",
    "X_test_transformed_svc_class = scaler_minmax.fit_transform(x_class_test_impute)\n",
    "print(np.shape(X_test_transformed_svc_class))\n",
    "# calculate shap values on the first 100 points in the test\n",
    "shap_values_svc_class = explainer_svc_class.shap_values(X_test_transformed_svc_class[:10])\n",
    "print(np.shape(shap_values_svc_class))"
   ]
  },
  {
   "cell_type": "code",
   "execution_count": 69,
   "metadata": {},
   "outputs": [
    {
     "name": "stdout",
     "output_type": "stream",
     "text": [
      "0.48310920224457804\n"
     ]
    },
    {
     "data": {
      "text/html": [
       "\n",
       "<div id='iRVA7MM7YFPWRJSTQ1RST'>\n",
       "<div style='color: #900; text-align: center;'>\n",
       "  <b>Visualization omitted, Javascript library not loaded!</b><br>\n",
       "  Have you run `initjs()` in this notebook? If this notebook was from another\n",
       "  user you must also trust this notebook (File -> Trust notebook). If you are viewing\n",
       "  this notebook on github the Javascript has been stripped for security. If you are using\n",
       "  JupyterLab this error is because a JupyterLab extension has not yet been written.\n",
       "</div></div>\n",
       " <script>\n",
       "   if (window.SHAP) SHAP.ReactDom.render(\n",
       "    SHAP.React.createElement(SHAP.AdditiveForceVisualizer, {\"outNames\": [\"output value\"], \"baseValue\": 0.48310920224457804, \"outValue\": -0.1433577250179226, \"link\": \"identity\", \"featureNames\": [\"X1\", \"Y1\", \"Z1\", \"X2\", \"Y2\", \"Z2\", \"X3\", \"Y3\", \"Z3\", \"X4\", \"Y4\", \"Z4\", \"Missing_marker_num\"], \"features\": {\"0\": {\"effect\": -0.5246058127906941, \"value\": 0.6973882934646649}, \"1\": {\"effect\": 0.049278872879408464, \"value\": 0.5598174428305622}, \"2\": {\"effect\": 0.21985777988296357, \"value\": 0.17288316142763416}, \"3\": {\"effect\": -0.19383694077131752, \"value\": 0.6073318973883467}, \"4\": {\"effect\": -0.0090810634451583, \"value\": 0.6081902833107641}, \"5\": {\"effect\": 0.021550978514774694, \"value\": 0.29129267323998564}, \"6\": {\"effect\": 0.4877059252978125, \"value\": 0.4722430649855771}, \"7\": {\"effect\": -0.06475061417207606, \"value\": 0.6239202965092926}, \"8\": {\"effect\": -0.3177650930476817, \"value\": 0.36757441337229907}, \"9\": {\"effect\": 0.13418005765865565, \"value\": 0.5268850241000365}, \"10\": {\"effect\": 0.15293951246745444, \"value\": 0.6001480385793395}, \"11\": {\"effect\": -0.04343532804981365, \"value\": 0.29350891665218154}, \"12\": {\"effect\": -0.009673695037245522, \"value\": 0.6255396789847016}}, \"plot_cmap\": \"PkYg\", \"labelMargin\": 20}),\n",
       "    document.getElementById('iRVA7MM7YFPWRJSTQ1RST')\n",
       "  );\n",
       "</script>"
      ],
      "text/plain": [
       "<IPython.core.display.HTML object>"
      ]
     },
     "execution_count": 69,
     "metadata": {},
     "output_type": "execute_result"
    }
   ],
   "source": [
    "index = 5 # the index of the point to explain\n",
    "print(explainer_svc_class.expected_value[0]) # we explain class 0 predictions\n",
    "shap.force_plot(explainer_svc_class.expected_value[0], shap_values_svc_class[0][index,:], \n",
    "                features = X_test_transformed_svc_class[index,:],feature_names = x_class_test_impute.columns[3:], plot_cmap=\"PkYg\")"
   ]
  },
  {
   "cell_type": "code",
   "execution_count": 70,
   "metadata": {},
   "outputs": [
    {
     "name": "stdout",
     "output_type": "stream",
     "text": [
      "-6.59689668020658\n"
     ]
    },
    {
     "data": {
      "text/html": [
       "\n",
       "<div id='i9L551GZKNR2LU0LH90BO'>\n",
       "<div style='color: #900; text-align: center;'>\n",
       "  <b>Visualization omitted, Javascript library not loaded!</b><br>\n",
       "  Have you run `initjs()` in this notebook? If this notebook was from another\n",
       "  user you must also trust this notebook (File -> Trust notebook). If you are viewing\n",
       "  this notebook on github the Javascript has been stripped for security. If you are using\n",
       "  JupyterLab this error is because a JupyterLab extension has not yet been written.\n",
       "</div></div>\n",
       " <script>\n",
       "   if (window.SHAP) SHAP.ReactDom.render(\n",
       "    SHAP.React.createElement(SHAP.AdditiveForceVisualizer, {\"outNames\": [\"output value\"], \"baseValue\": -6.59689668020658, \"outValue\": -7.185809353327404, \"link\": \"identity\", \"featureNames\": [\"X1\", \"Y1\", \"Z1\", \"X2\", \"Y2\", \"Z2\", \"X3\", \"Y3\", \"Z3\", \"X4\", \"Y4\", \"Z4\", \"Missing_marker_num\"], \"features\": {\"0\": {\"effect\": -0.07218704955619659, \"value\": 0.6973882934646649}, \"1\": {\"effect\": -0.05823625217605799, \"value\": 0.5598174428305622}, \"2\": {\"effect\": 0.1028908634770625, \"value\": 0.17288316142763416}, \"3\": {\"effect\": -0.08486553686673726, \"value\": 0.6073318973883467}, \"4\": {\"effect\": -0.024439779569171094, \"value\": 0.6081902833107641}, \"5\": {\"effect\": -0.058610318381416004, \"value\": 0.29129267323998564}, \"6\": {\"effect\": -0.045473890899469405, \"value\": 0.4722430649855771}, \"7\": {\"effect\": -0.1930468011772138, \"value\": 0.6239202965092926}, \"8\": {\"effect\": -0.11855169907178353, \"value\": 0.36757441337229907}, \"9\": {\"effect\": 0.00936194353963754, \"value\": 0.5268850241000365}, \"10\": {\"effect\": -0.1968248787613593, \"value\": 0.6001480385793395}, \"11\": {\"effect\": -0.10354145278074162, \"value\": 0.29350891665218154}, \"12\": {\"effect\": -0.026723158451646023, \"value\": 0.6255396789847016}}, \"plot_cmap\": \"PkYg\", \"labelMargin\": 20}),\n",
       "    document.getElementById('i9L551GZKNR2LU0LH90BO')\n",
       "  );\n",
       "</script>"
      ],
      "text/plain": [
       "<IPython.core.display.HTML object>"
      ]
     },
     "execution_count": 70,
     "metadata": {},
     "output_type": "execute_result"
    }
   ],
   "source": [
    "index = 5 # the index of the point to explain\n",
    "print(explainer_svc_class.expected_value[1]) # we explain class 1 predictions\n",
    "shap.force_plot(explainer_svc_class.expected_value[1], shap_values_svc_class[1][index,:], \n",
    "                features = X_test_transformed_svc_class[index,:],feature_names = x_class_test_impute.columns[3:], plot_cmap=\"PkYg\")"
   ]
  },
  {
   "cell_type": "code",
   "execution_count": 71,
   "metadata": {},
   "outputs": [
    {
     "name": "stdout",
     "output_type": "stream",
     "text": [
      "-0.5562719159827761\n"
     ]
    },
    {
     "data": {
      "text/html": [
       "\n",
       "<div id='i0PSMWFMXH3HA997TALRA'>\n",
       "<div style='color: #900; text-align: center;'>\n",
       "  <b>Visualization omitted, Javascript library not loaded!</b><br>\n",
       "  Have you run `initjs()` in this notebook? If this notebook was from another\n",
       "  user you must also trust this notebook (File -> Trust notebook). If you are viewing\n",
       "  this notebook on github the Javascript has been stripped for security. If you are using\n",
       "  JupyterLab this error is because a JupyterLab extension has not yet been written.\n",
       "</div></div>\n",
       " <script>\n",
       "   if (window.SHAP) SHAP.ReactDom.render(\n",
       "    SHAP.React.createElement(SHAP.AdditiveForceVisualizer, {\"outNames\": [\"output value\"], \"baseValue\": -0.5562719159827761, \"outValue\": 0.07013409541188875, \"link\": \"identity\", \"featureNames\": [\"X1\", \"Y1\", \"Z1\", \"X2\", \"Y2\", \"Z2\", \"X3\", \"Y3\", \"Z3\", \"X4\", \"Y4\", \"Z4\", \"Missing_marker_num\"], \"features\": {\"0\": {\"effect\": 0.5212219481488076, \"value\": 0.6973882934646649}, \"1\": {\"effect\": -0.0453944865250957, \"value\": 0.5598174428305622}, \"2\": {\"effect\": -0.22262287210030063, \"value\": 0.17288316142763416}, \"3\": {\"effect\": 0.19528149736814748, \"value\": 0.6073318973883467}, \"4\": {\"effect\": 0.007261140175752717, \"value\": 0.6081902833107641}, \"5\": {\"effect\": -0.018118781443567405, \"value\": 0.29129267323998564}, \"6\": {\"effect\": -0.478666273164535, \"value\": 0.4722430649855771}, \"7\": {\"effect\": 0.046310125717161754, \"value\": 0.6239202965092926}, \"8\": {\"effect\": 0.31716909515837394, \"value\": 0.36757441337229907}, \"9\": {\"effect\": -0.13343439590664893, \"value\": 0.5268850241000365}, \"10\": {\"effect\": -0.171758574137386, \"value\": 0.6001480385793395}, \"11\": {\"effect\": 0.049559060420691414, \"value\": 0.29350891665218154}, \"12\": {\"effect\": 0.011171608181983955, \"value\": 0.6255396789847016}}, \"plot_cmap\": \"PkYg\", \"labelMargin\": 20}),\n",
       "    document.getElementById('i0PSMWFMXH3HA997TALRA')\n",
       "  );\n",
       "</script>"
      ],
      "text/plain": [
       "<IPython.core.display.HTML object>"
      ]
     },
     "execution_count": 71,
     "metadata": {},
     "output_type": "execute_result"
    }
   ],
   "source": [
    "index = 5 # the index of the point to explain\n",
    "print(explainer_svc_class.expected_value[2]) # we explain class 2 predictions\n",
    "shap.force_plot(explainer_svc_class.expected_value[2], shap_values_svc_class[2][index,:], \n",
    "                features = X_test_transformed_svc_class[index,:],feature_names = x_class_test_impute.columns[3:], plot_cmap=\"PkYg\")"
   ]
  },
  {
   "cell_type": "code",
   "execution_count": 72,
   "metadata": {},
   "outputs": [
    {
     "name": "stdout",
     "output_type": "stream",
     "text": [
      "-4.229968300761289\n"
     ]
    },
    {
     "data": {
      "text/html": [
       "\n",
       "<div id='i8SU2AP2IVA3ZKO5DTHAA'>\n",
       "<div style='color: #900; text-align: center;'>\n",
       "  <b>Visualization omitted, Javascript library not loaded!</b><br>\n",
       "  Have you run `initjs()` in this notebook? If this notebook was from another\n",
       "  user you must also trust this notebook (File -> Trust notebook). If you are viewing\n",
       "  this notebook on github the Javascript has been stripped for security. If you are using\n",
       "  JupyterLab this error is because a JupyterLab extension has not yet been written.\n",
       "</div></div>\n",
       " <script>\n",
       "   if (window.SHAP) SHAP.ReactDom.render(\n",
       "    SHAP.React.createElement(SHAP.AdditiveForceVisualizer, {\"outNames\": [\"output value\"], \"baseValue\": -4.229968300761289, \"outValue\": -4.093587189065867, \"link\": \"identity\", \"featureNames\": [\"X1\", \"Y1\", \"Z1\", \"X2\", \"Y2\", \"Z2\", \"X3\", \"Y3\", \"Z3\", \"X4\", \"Y4\", \"Z4\", \"Missing_marker_num\"], \"features\": {\"0\": {\"effect\": 0.13216258934245453, \"value\": 0.6973882934646649}, \"1\": {\"effect\": -0.051242326268074644, \"value\": 0.5598174428305622}, \"2\": {\"effect\": 0.0025163251664814604, \"value\": 0.17288316142763416}, \"3\": {\"effect\": 0.016061447351383554, \"value\": 0.6073318973883467}, \"4\": {\"effect\": 0.02338315281280251, \"value\": 0.6081902833107641}, \"5\": {\"effect\": -0.04493736701299373, \"value\": 0.29129267323998564}, \"6\": {\"effect\": -0.191416992060834, \"value\": 0.4722430649855771}, \"7\": {\"effect\": 0.27424009135939853, \"value\": 0.6239202965092926}, \"8\": {\"effect\": 0.06142006210620854, \"value\": 0.36757441337229907}, \"9\": {\"effect\": -0.03487896382200213, \"value\": 0.5268850241000365}, \"10\": {\"effect\": 0.23856272378052767, \"value\": 0.6001480385793395}, \"11\": {\"effect\": -0.07130328076092877, \"value\": 0.29350891665218154}, \"12\": {\"effect\": -0.017450291451668286, \"value\": 0.6255396789847016}}, \"plot_cmap\": \"PkYg\", \"labelMargin\": 20}),\n",
       "    document.getElementById('i8SU2AP2IVA3ZKO5DTHAA')\n",
       "  );\n",
       "</script>"
      ],
      "text/plain": [
       "<IPython.core.display.HTML object>"
      ]
     },
     "execution_count": 72,
     "metadata": {},
     "output_type": "execute_result"
    }
   ],
   "source": [
    "index = 5 # the index of the point to explain\n",
    "print(explainer_svc_class.expected_value[3]) # we explain class 3 predictions\n",
    "shap.force_plot(explainer_svc_class.expected_value[3], shap_values_svc_class[3][index,:], \n",
    "                features = X_test_transformed_svc_class[index,:],feature_names = x_class_test_impute.columns[3:], plot_cmap=\"PkYg\")"
   ]
  },
  {
   "cell_type": "code",
   "execution_count": 73,
   "metadata": {},
   "outputs": [
    {
     "name": "stdout",
     "output_type": "stream",
     "text": [
      "-6.569269733685765\n"
     ]
    },
    {
     "data": {
      "text/html": [
       "\n",
       "<div id='iF7X9F0BR8G3T2GO7Q26E'>\n",
       "<div style='color: #900; text-align: center;'>\n",
       "  <b>Visualization omitted, Javascript library not loaded!</b><br>\n",
       "  Have you run `initjs()` in this notebook? If this notebook was from another\n",
       "  user you must also trust this notebook (File -> Trust notebook). If you are viewing\n",
       "  this notebook on github the Javascript has been stripped for security. If you are using\n",
       "  JupyterLab this error is because a JupyterLab extension has not yet been written.\n",
       "</div></div>\n",
       " <script>\n",
       "   if (window.SHAP) SHAP.ReactDom.render(\n",
       "    SHAP.React.createElement(SHAP.AdditiveForceVisualizer, {\"outNames\": [\"output value\"], \"baseValue\": -6.569269733685765, \"outValue\": -6.820950876597841, \"link\": \"identity\", \"featureNames\": [\"X1\", \"Y1\", \"Z1\", \"X2\", \"Y2\", \"Z2\", \"X3\", \"Y3\", \"Z3\", \"X4\", \"Y4\", \"Z4\", \"Missing_marker_num\"], \"features\": {\"0\": {\"effect\": -0.0306634318700231, \"value\": 0.6973882934646649}, \"1\": {\"effect\": -0.0606339440890129, \"value\": 0.5598174428305622}, \"2\": {\"effect\": 0.06542668003429566, \"value\": 0.17288316142763416}, \"3\": {\"effect\": -0.07177123158252868, \"value\": 0.6073318973883467}, \"4\": {\"effect\": -0.005066314919836154, \"value\": 0.6081902833107641}, \"5\": {\"effect\": -0.057114941004399594, \"value\": 0.29129267323998564}, \"6\": {\"effect\": 0.006010641547633311, \"value\": 0.4722430649855771}, \"7\": {\"effect\": 0.004872729430507039, \"value\": 0.6239202965092926}, \"8\": {\"effect\": -0.018182670848348514, \"value\": 0.36757441337229907}, \"9\": {\"effect\": 0.036299726528467524, \"value\": 0.5268850241000365}, \"10\": {\"effect\": 0.004906517889897655, \"value\": 0.6001480385793395}, \"11\": {\"effect\": -0.08527672557951285, \"value\": 0.29350891665218154}, \"12\": {\"effect\": -0.031099599434097236, \"value\": 0.6255396789847016}}, \"plot_cmap\": \"PkYg\", \"labelMargin\": 20}),\n",
       "    document.getElementById('iF7X9F0BR8G3T2GO7Q26E')\n",
       "  );\n",
       "</script>"
      ],
      "text/plain": [
       "<IPython.core.display.HTML object>"
      ]
     },
     "execution_count": 73,
     "metadata": {},
     "output_type": "execute_result"
    }
   ],
   "source": [
    "index = 5 # the index of the point to explain\n",
    "print(explainer_svc_class.expected_value[4]) # we explain class 4 predictions\n",
    "shap.force_plot(explainer_svc_class.expected_value[4], shap_values_svc_class[4][index,:], \n",
    "                features = X_test_transformed_svc_class[index,:],feature_names = x_class_test_impute.columns[3:], plot_cmap=\"PkYg\")"
   ]
  },
  {
   "cell_type": "markdown",
   "metadata": {},
   "source": [
    "## 2.2 Training Models for User"
   ]
  },
  {
   "cell_type": "markdown",
   "metadata": {},
   "source": [
    "### 2.2.1 xgboost"
   ]
  },
  {
   "cell_type": "markdown",
   "metadata": {},
   "source": [
    "#### 2.2.1.1 Find the best gesture, tune corresponding hyperparameters\n",
    "Predict the user given a certain class of gesture. Tune hyperparameters $\\alpha$, $\\lambda$ and `max_depth` for every gesture. Find the best gesture based on test accuracy scores.  "
   ]
  },
  {
   "cell_type": "code",
   "execution_count": 375,
   "metadata": {},
   "outputs": [],
   "source": [
    "def predict_user_given_class_xgb(df_user_x, df_user_y, random_state=42):\n",
    "    \"\"\"Return the best xgb model, test score and records of tuning hyperparameters\"\"\"\n",
    "    num_ftrs = df.columns[2:]    # Categorical features\n",
    "    \n",
    "    # Standard scaler\n",
    "    numeric_transformer = Pipeline(steps=[('scaler', MinMaxScaler())])\n",
    "\n",
    "    # collect the transformers\n",
    "    preprocessor = ColumnTransformer(remainder='passthrough', \n",
    "        transformers=[('num', numeric_transformer, num_ftrs),])\n",
    "    X_other, X_test, y_other, y_test = train_test_split(df_user_x, df_user_y, \n",
    "                                        test_size=0.2, random_state=random_state, stratify=df_user_y)\n",
    "    X_other = preprocessor.fit_transform(X_other)\n",
    "    X_test = preprocessor.fit_transform(X_test)\n",
    "    X_train, X_cv, y_train, y_cv = train_test_split(X_other, y_other, \n",
    "                                        test_size=0.2, random_state=random_state, stratify=y_other)\n",
    "    \n",
    "    # Tune parameters\n",
    "    xgb_para = {\"XGB\": [], \"alpha\": [], \"lambda\": [], \"depth\": [], \"accuracy_cv\": []}\n",
    "    for alpha in [0e0, 1., 10]:\n",
    "        for lbd in [0e0, 1., 10]:\n",
    "            for depth in [2, 3, 4]:\n",
    "                param_grid = {\"learning_rate\": [0.03],\n",
    "                              \"n_estimators\": [400],\n",
    "                              \"seed\": [random_state],\n",
    "                              \"reg_alpha\": [alpha],\n",
    "                              \"reg_lambda\": [lbd],\n",
    "                              \"missing\": [np.NaN], \n",
    "                              \"max_depth\": [depth],\n",
    "                              \"colsample_bytree\": [0.9],              \n",
    "                              \"subsample\": [0.66], \n",
    "                              \"n_jobs\": [-1]}\n",
    "                XGB = xgboost.XGBClassifier()\n",
    "                XGB.set_params(**ParameterGrid(param_grid)[0])\n",
    "                XGB.fit(X_train, y_train, early_stopping_rounds=50, \n",
    "                        eval_set=[(X_cv, y_cv)], verbose=False)\n",
    "                y_cv_pred = XGB.predict(X_cv)\n",
    "                xgb_para[\"accuracy_cv\"].append(accuracy_score(y_cv, y_cv_pred))\n",
    "                xgb_para[\"XGB\"].append(XGB)\n",
    "                xgb_para[\"alpha\"].append(alpha)\n",
    "                xgb_para[\"lambda\"].append(lbd)\n",
    "                xgb_para[\"depth\"].append(depth)\n",
    "    \n",
    "    # Get the best xgb model\n",
    "    best_XGB = xgb_para[\"XGB\"][np.argmax(xgb_para[\"accuracy_cv\"])]\n",
    "    y_test_pred = best_XGB.predict(X_test)\n",
    "    score = accuracy_score(y_test, y_test_pred)\n",
    "    return best_XGB, score, xgb_para"
   ]
  },
  {
   "cell_type": "code",
   "execution_count": 377,
   "metadata": {},
   "outputs": [
    {
     "name": "stdout",
     "output_type": "stream",
     "text": [
      "Class 1, time consumed: 749.9600307941437, score: 0.47832769750999077\n",
      "Class 2, time consumed: 1167.427829504013, score: 0.92456608811749\n",
      "Class 3, time consumed: 752.7533564567566, score: 0.9213826858366473\n",
      "Class 4, time consumed: 790.525426864624, score: 0.9191201353637902\n",
      "Class 5, time consumed: 959.6947405338287, score: 0.9644105497299015\n",
      "5\n"
     ]
    }
   ],
   "source": [
    "user_pred = {\"XGB\": [], \"class\": [], \"shape\": [], \"score\": [], \"para_log\": []}\n",
    "for i in range(1, 6):\n",
    "    start = time.time()\n",
    "    user_pred[\"class\"].append(i)\n",
    "    df_user = df[df['Class'] == i].drop('Class', axis=1)    # Extracting data from Class i\n",
    "    df_user_x = df_user.drop('User', axis=1)    # Extract x\n",
    "    df_user_y = df_user[['User']]    # Extract y\n",
    "    # Model and score of prediction using Class i\n",
    "    xgb_model, score, para_log = predict_user_given_class_xgb(df_user_x, df_user_y)\n",
    "    # Record models, score and parameter tuning logs\n",
    "    user_pred[\"XGB\"].append(xgb_model)\n",
    "    user_pred[\"score\"].append(score)\n",
    "    user_pred[\"shape\"].append((df_user_x.shape, df_user_y.shape))\n",
    "    user_pred[\"para_log\"].append(para_log)\n",
    "    end = time.time()\n",
    "    print(f\"Class {i}, time consumed: {end - start}, score: {score}\")\n",
    "\n",
    "print(user_pred[\"class\"][np.argmax(user_pred[\"score\"])])"
   ]
  },
  {
   "cell_type": "markdown",
   "metadata": {},
   "source": [
    "The best gesture for recognizing users using xgboost is `Class 5`, which is \"grab\".  "
   ]
  },
  {
   "cell_type": "markdown",
   "metadata": {},
   "source": [
    "#### 2.2.1.2 Result of the best gesture and the best model"
   ]
  },
  {
   "cell_type": "code",
   "execution_count": 76,
   "metadata": {},
   "outputs": [],
   "source": [
    "# Get the test set\n",
    "df_user = df[df['Class'] == 5].drop('Class', axis=1)    # Extracting data from Class i\n",
    "df_user_x = df_user.drop('User', axis=1)    # Extract x\n",
    "df_user_y = df_user[['User']]    # Extract y\n",
    "num_ftrs = df.columns[2:]    # Categorical features\n",
    "numeric_transformer = Pipeline(steps=[('scaler', MinMaxScaler())])    # Standard scaler\n",
    "preprocessor = ColumnTransformer(remainder='passthrough', \n",
    "    transformers=[('num', numeric_transformer, num_ftrs),])    # collect the transformers\n",
    "X_other, x_user_test, y_other, y_user_test = train_test_split(df_user_x, df_user_y, \n",
    "                test_size=0.2, random_state=42, stratify=df_user_y)    # Split test and others\n",
    "X_other = preprocessor.fit_transform(X_other)    # Standarize X_train\n",
    "x_user_test = preprocessor.fit_transform(x_user_test)    # Standarize X_test\n",
    "X_train, X_cv, y_train, y_cv = train_test_split(X_other, y_other, \n",
    "                                test_size=0.2, random_state=42, stratify=y_other)    # Split train and cv"
   ]
  },
  {
   "cell_type": "code",
   "execution_count": 79,
   "metadata": {
    "scrolled": true
   },
   "outputs": [
    {
     "name": "stdout",
     "output_type": "stream",
     "text": [
      "Test accuracy for gesture class 5 and the best XGB: 96.44105497299014%\n"
     ]
    },
    {
     "data": {
      "text/plain": [
       "array([[406,   1,   0,   2,   0,   0,   0,   0,   0,   0,   0,   0],\n",
       "       [  2, 213,   0,   0,   0,   2,   0,   0,   0,   0,   0,   0],\n",
       "       [  0,   0, 222,   0,   0,   0,   0,   0,   0,   0,   0,   0],\n",
       "       [  0,   1,   0, 227,   1,   0,   4,   0,   0,   0,   0,   4],\n",
       "       [  1,   2,   1,   6, 209,  12,   0,   0,   0,   0,   0,   0],\n",
       "       [  1,   0,   5,   1,   0, 291,   0,   0,   0,   0,   0,   0],\n",
       "       [  4,   2,   0,   2,   0,   0, 148,   0,   1,   0,   4,   7],\n",
       "       [  0,   0,   0,   0,   0,   0,   1, 338,   0,   0,   0,   0],\n",
       "       [  0,   1,   0,   0,   0,   0,  13,   1, 292,   0,   3,   9],\n",
       "       [  0,   0,   0,   2,   0,   4,   0,   0,   0, 176,   0,   0],\n",
       "       [  2,   0,   0,   0,   0,   0,   0,   0,   0,   0, 299,   3],\n",
       "       [  2,   0,   0,   0,   0,   0,   1,   0,   0,   0,   4, 214]],\n",
       "      dtype=int64)"
      ]
     },
     "execution_count": 79,
     "metadata": {},
     "output_type": "execute_result"
    }
   ],
   "source": [
    "# Result of the best model on test set\n",
    "xgb_user_class_5 = user_pred[\"XGB\"][np.argmax(user_pred[\"score\"])]\n",
    "y_user_test_pred = xgb_user_class_5.predict(x_user_test)\n",
    "acc_score_xgb_user = accuracy_score(y_user_test, y_user_test_pred)\n",
    "print(f\"Test accuracy for gesture class 5 and the best XGB: {100*acc_score_xgb_user}%\")\n",
    "confusion_matrix(y_user_test, y_user_test_pred)"
   ]
  },
  {
   "cell_type": "code",
   "execution_count": 80,
   "metadata": {},
   "outputs": [
    {
     "data": {
      "image/png": "[encoded data removed]",
      "text/plain": [
       "<Figure size 504x504 with 1 Axes>"
      ]
     },
     "metadata": {
      "needs_background": "light"
     },
     "output_type": "display_data"
    }
   ],
   "source": [
    "# Confusion matrix for best XGB on test set\n",
    "df_cm_xgb_user = pd.DataFrame(confusion_matrix(y_user_test, y_user_test_pred), \n",
    "                         index=set(y_user_test[\"User\"]), columns=set(y_user_test[\"User\"]))\n",
    "plt.figure(figsize = (7,7))\n",
    "plt.title(\"Confusion Matrix for XGB, Predicting User\")\n",
    "sn.heatmap(df_cm_xgb_user, annot=True, fmt='g', cbar=False, \n",
    "           annot_kws={\"size\": 16}, cmap=\"Blues\")\n",
    "plt.xlabel(\"Predicted Label\")\n",
    "plt.ylabel(\"True Label\")\n",
    "plt.savefig('../figures/Confusion Matrix for XGB, Predicting User.png',dpi=300)"
   ]
  },
  {
   "cell_type": "markdown",
   "metadata": {},
   "source": [
    "#### 2.2.1.3 Uncertainty created by random state on splitting and xgboost"
   ]
  },
  {
   "cell_type": "code",
   "execution_count": 81,
   "metadata": {},
   "outputs": [],
   "source": [
    "def uncertainty_xgb_user(random_state):\n",
    "    num_ftrs = df.columns[2:]    # Categorical features\n",
    "    # Standard scaler\n",
    "    numeric_transformer = Pipeline(steps=[('scaler', MinMaxScaler())])\n",
    "    # collect the transformers\n",
    "    preprocessor = ColumnTransformer(remainder='passthrough', \n",
    "        transformers=[('num', numeric_transformer, num_ftrs),])\n",
    "    X_other, X_test, y_other, y_test = train_test_split(df_user_x, df_user_y, \n",
    "                                        test_size=0.2, random_state=random_state, stratify=df_user_y)\n",
    "    X_other = preprocessor.fit_transform(X_other)\n",
    "    X_test = preprocessor.fit_transform(X_test)\n",
    "    X_train, X_cv, y_train, y_cv = train_test_split(X_other, y_other, \n",
    "                                        test_size=0.2, random_state=random_state, stratify=y_other)\n",
    "    param_grid = {\"learning_rate\": [0.03],\n",
    "                              \"n_estimators\": [400],\n",
    "                              \"seed\": [random_state],\n",
    "                              \"reg_alpha\": [0.0],\n",
    "                              \"reg_lambda\": [1.],\n",
    "                              \"missing\": [np.NaN], \n",
    "                              \"max_depth\": [4],\n",
    "                              \"colsample_bytree\": [0.9],              \n",
    "                              \"subsample\": [0.66], \n",
    "                              \"n_jobs\": [-1]}\n",
    "    XGB = xgboost.XGBClassifier()\n",
    "    XGB.set_params(**ParameterGrid(param_grid)[0])\n",
    "    XGB.fit(X_train, y_train, early_stopping_rounds=50, \n",
    "            eval_set=[(X_cv, y_cv)], verbose=False)\n",
    "    y_test_pred = XGB.predict(X_test)\n",
    "    return accuracy_score(y_test, y_test_pred), pd.DataFrame(confusion_matrix(y_test, y_test_pred), \n",
    "                                                 index=set(y_test[\"User\"]), columns=set(y_test[\"User\"]))"
   ]
  },
  {
   "cell_type": "code",
   "execution_count": 82,
   "metadata": {},
   "outputs": [],
   "source": [
    "df_user = df[df['Class'] == 5].drop('Class', axis=1)    # Extracting data from Class i\n",
    "df_user_x = df_user.drop('User', axis=1)    # Extract x\n",
    "df_user_y = df_user[['User']]    # Extract y\n",
    "acc_score_xgb_user_2, df_cm_xgb_user_2 = uncertainty_xgb_user(45)\n",
    "acc_score_xgb_user_3, df_cm_xgb_user_3 = uncertainty_xgb_user(49)\n",
    "acc_score_xgb_user_4, df_cm_xgb_user_4 = uncertainty_xgb_user(54)\n",
    "acc_score_xgb_user_5, df_cm_xgb_user_5 = uncertainty_xgb_user(68)"
   ]
  },
  {
   "cell_type": "code",
   "execution_count": 83,
   "metadata": {},
   "outputs": [
    {
     "name": "stdout",
     "output_type": "stream",
     "text": [
      "for user prediction, mean: 0.9574197648554179, std: 0.025673201175760666\n",
      "32.51788851164601 standard deviation above baseline\n"
     ]
    }
   ],
   "source": [
    "mean_acc_xgb_user = np.mean([acc_score_xgb_user, acc_score_xgb_user_2, acc_score_xgb_user_3, acc_score_xgb_user_4, acc_score_xgb_user_5])\n",
    "std_acc_xgb_user = np.std([acc_score_xgb_user, acc_score_xgb_user_2, acc_score_xgb_user_3, acc_score_xgb_user_4, acc_score_xgb_user_5])\n",
    "print(f\"for user prediction, mean: {mean_acc_xgb_user}, std: {std_acc_xgb_user}\")\n",
    "print(f\"{(mean_acc_xgb_user-baseline_user)/std_acc_xgb_user} standard deviation above baseline\")"
   ]
  },
  {
   "cell_type": "code",
   "execution_count": 84,
   "metadata": {},
   "outputs": [
    {
     "data": {
      "image/png": "[encoded data removed]",
      "text/plain": [
       "<Figure size 576x576 with 1 Axes>"
      ]
     },
     "metadata": {
      "needs_background": "light"
     },
     "output_type": "display_data"
    }
   ],
   "source": [
    "df_cm_xgb_sum_user = df_cm_xgb_user.add(df_cm_xgb_user_2, fill_value=0).add(\n",
    "                df_cm_xgb_user_3, fill_value=0).add(df_cm_xgb_user_4, fill_value=0).add(df_cm_xgb_user_5, fill_value=0)\n",
    "df_cm_xgb_sum_user_normalize = 100*df_cm_xgb_sum_user.astype('float') / df_cm_xgb_sum_user.sum(axis=1)[:, np.newaxis]\n",
    "plt.figure(figsize = (8, 8))\n",
    "plt.title(\"Average Normalized Confusion Matrix for XGB, Predicting User\")\n",
    "sn.heatmap(df_cm_xgb_sum_user_normalize.round(decimals=2), annot=True, fmt='g', cbar=False, \n",
    "           annot_kws={\"size\": 8}, cmap=\"Blues\")\n",
    "plt.xlabel(\"Predicted Label\")\n",
    "plt.ylabel(\"True Label\")\n",
    "plt.savefig('../figures/Average Normalized Confusion Matrix for XGB, Predicting User.png',dpi=300)"
   ]
  },
  {
   "cell_type": "markdown",
   "metadata": {},
   "source": [
    "#### 2.2.1.4 Local feature importance with xgboost"
   ]
  },
  {
   "cell_type": "code",
   "execution_count": 85,
   "metadata": {},
   "outputs": [
    {
     "name": "stdout",
     "output_type": "stream",
     "text": [
      "(3147, 34)\n",
      "(12, 100, 34)\n"
     ]
    }
   ],
   "source": [
    "# create the explainer object with the random forest model\n",
    "explainer_xgb_user = shap.TreeExplainer(xgb_user_class_5)\n",
    "# transform the test set\n",
    "\n",
    "X_test_transformed_xgb_user = scaler_minmax.fit_transform(x_user_test)\n",
    "print(np.shape(X_test_transformed_xgb_user))\n",
    "# calculate shap values on the first 100 points in the test\n",
    "shap_values_xgb_user = explainer_xgb_user.shap_values(X_test_transformed_xgb_user[:100])\n",
    "print(np.shape(shap_values_xgb_user))"
   ]
  },
  {
   "cell_type": "code",
   "execution_count": 110,
   "metadata": {},
   "outputs": [
    {
     "name": "stdout",
     "output_type": "stream",
     "text": [
      "1.1082232\n"
     ]
    },
    {
     "data": {
      "text/html": [
       "\n",
       "<div id='iQU4VBWGEKK44BHFN64YS'>\n",
       "<div style='color: #900; text-align: center;'>\n",
       "  <b>Visualization omitted, Javascript library not loaded!</b><br>\n",
       "  Have you run `initjs()` in this notebook? If this notebook was from another\n",
       "  user you must also trust this notebook (File -> Trust notebook). If you are viewing\n",
       "  this notebook on github the Javascript has been stripped for security. If you are using\n",
       "  JupyterLab this error is because a JupyterLab extension has not yet been written.\n",
       "</div></div>\n",
       " <script>\n",
       "   if (window.SHAP) SHAP.ReactDom.render(\n",
       "    SHAP.React.createElement(SHAP.AdditiveForceVisualizer, {\"outNames\": [\"output value\"], \"baseValue\": 1.1082231998443604, \"outValue\": -1.5427966117858887, \"link\": \"identity\", \"featureNames\": [\"Y0\", \"Z0\", \"X1\", \"Y1\", \"Z1\", \"X2\", \"Y2\", \"Z2\", \"X3\", \"Y3\", \"Z3\", \"X4\", \"Y4\", \"Z4\", \"X5\", \"Y5\", \"Z5\", \"X6\", \"Y6\", \"Z6\", \"X7\", \"Y7\", \"Z7\", \"X8\", \"Y8\", \"Z8\", \"X9\", \"Y9\", \"Z9\", \"X10\", \"Y10\", \"Z10\", \"Missing_marker_num\"], \"features\": {\"0\": {\"effect\": -0.24476005136966705, \"value\": 0.5515101826521555}, \"1\": {\"effect\": -0.14147737622261047, \"value\": 0.6396125519684682}, \"2\": {\"effect\": -0.37920311093330383, \"value\": 0.6418310501231869}, \"3\": {\"effect\": 0.05599021911621094, \"value\": 0.4635226775658293}, \"4\": {\"effect\": -0.17396365106105804, \"value\": 0.6728251862126047}, \"5\": {\"effect\": -0.43157291412353516, \"value\": 0.662686847877499}, \"6\": {\"effect\": -0.043005287647247314, \"value\": 0.2859753402138977}, \"7\": {\"effect\": -0.15262728929519653, \"value\": 0.6636482981185328}, \"8\": {\"effect\": -0.18770477175712585, \"value\": 0.5034728792016804}, \"9\": {\"effect\": -0.001101335627026856, \"value\": 0.264997221216678}, \"10\": {\"effect\": -0.21727354824543, \"value\": 0.5285412243744387}, \"11\": {\"effect\": -0.08692368119955063, \"value\": 0.3401229791810143}, \"12\": {\"effect\": 0.005511865951120853, \"value\": 0.7507586616736167}, \"13\": {\"effect\": -0.07360127568244934, \"value\": 0.22472304412362576}, \"14\": {\"effect\": -0.054743386805057526, \"value\": 0.45541710047068085}, \"15\": {\"effect\": -0.12341976910829544, \"value\": 0.5789822497222198}, \"16\": {\"effect\": 0.09604743123054504, \"value\": 0.8743189645667302}, \"17\": {\"effect\": -0.03215440735220909, \"value\": 0.3537877785641113}, \"18\": {\"effect\": -0.005775233265012503, \"value\": 0.3976278645554512}, \"19\": {\"effect\": 0.10290935635566711, \"value\": 0.6223156642057578}, \"20\": {\"effect\": -0.044053055346012115, \"value\": 0.12015503202675715}, \"21\": {\"effect\": 0.15747465193271637, \"value\": 0.7277117569272252}, \"22\": {\"effect\": 0.10212493687868118, \"value\": 0.8087441478469273}, \"23\": {\"effect\": -0.11430151760578156, \"value\": 0.450690106136348}, \"24\": {\"effect\": 0.0590071901679039, \"value\": 0.47001773627090393}, \"25\": {\"effect\": 0.06789980083703995, \"value\": 0.7643859535115455}, \"26\": {\"effect\": -0.007907487452030182, \"value\": 0.21733689987337645}, \"27\": {\"effect\": -0.14307278394699097, \"value\": 0.7340509669611098}, \"28\": {\"effect\": -0.4270097315311432, \"value\": 0.07028248888826047}, \"29\": {\"effect\": -0.08875685185194016, \"value\": 0.561680136272404}, \"30\": {\"effect\": -0.08127021044492722, \"value\": NaN}, \"31\": {\"effect\": -0.03915580362081528, \"value\": NaN}, \"32\": {\"effect\": -0.0031506684608757496, \"value\": NaN}}, \"plot_cmap\": \"PkYg\", \"labelMargin\": 20}),\n",
       "    document.getElementById('iQU4VBWGEKK44BHFN64YS')\n",
       "  );\n",
       "</script>"
      ],
      "text/plain": [
       "<IPython.core.display.HTML object>"
      ]
     },
     "execution_count": 110,
     "metadata": {},
     "output_type": "execute_result"
    }
   ],
   "source": [
    "index = 7 # the index of the point to explain\n",
    "print(explainer_xgb_user.expected_value[0]) # we explain user 0 predictions\n",
    "shap.force_plot(explainer_xgb_user.expected_value[0], shap_values_xgb_user[0][index,:], \n",
    "                features = X_test_transformed_xgb_user[index,:],feature_names = df.columns[3:], plot_cmap=\"PkYg\")"
   ]
  },
  {
   "cell_type": "code",
   "execution_count": 108,
   "metadata": {},
   "outputs": [
    {
     "name": "stdout",
     "output_type": "stream",
     "text": [
      "0.4534459\n"
     ]
    },
    {
     "data": {
      "text/html": [
       "\n",
       "<div id='iPXONWLHV3MGHMRUHCX19'>\n",
       "<div style='color: #900; text-align: center;'>\n",
       "  <b>Visualization omitted, Javascript library not loaded!</b><br>\n",
       "  Have you run `initjs()` in this notebook? If this notebook was from another\n",
       "  user you must also trust this notebook (File -> Trust notebook). If you are viewing\n",
       "  this notebook on github the Javascript has been stripped for security. If you are using\n",
       "  JupyterLab this error is because a JupyterLab extension has not yet been written.\n",
       "</div></div>\n",
       " <script>\n",
       "   if (window.SHAP) SHAP.ReactDom.render(\n",
       "    SHAP.React.createElement(SHAP.AdditiveForceVisualizer, {\"outNames\": [\"output value\"], \"baseValue\": 0.4534459114074707, \"outValue\": 5.138584136962891, \"link\": \"identity\", \"featureNames\": [\"Y0\", \"Z0\", \"X1\", \"Y1\", \"Z1\", \"X2\", \"Y2\", \"Z2\", \"X3\", \"Y3\", \"Z3\", \"X4\", \"Y4\", \"Z4\", \"X5\", \"Y5\", \"Z5\", \"X6\", \"Y6\", \"Z6\", \"X7\", \"Y7\", \"Z7\", \"X8\", \"Y8\", \"Z8\", \"X9\", \"Y9\", \"Z9\", \"X10\", \"Y10\", \"Z10\", \"Missing_marker_num\"], \"features\": {\"0\": {\"effect\": 0.19048641622066498, \"value\": 0.5515101826521555}, \"1\": {\"effect\": 0.7318375110626221, \"value\": 0.6396125519684682}, \"2\": {\"effect\": 0.01106339879333973, \"value\": 0.6418310501231869}, \"3\": {\"effect\": 0.11520347744226456, \"value\": 0.4635226775658293}, \"4\": {\"effect\": 0.3870335519313812, \"value\": 0.6728251862126047}, \"5\": {\"effect\": -0.15636923909187317, \"value\": 0.662686847877499}, \"6\": {\"effect\": 0.05082561820745468, \"value\": 0.2859753402138977}, \"7\": {\"effect\": 0.2808956503868103, \"value\": 0.6636482981185328}, \"8\": {\"effect\": 0.06260257959365845, \"value\": 0.5034728792016804}, \"9\": {\"effect\": 0.012845750898122787, \"value\": 0.264997221216678}, \"10\": {\"effect\": 0.0720582827925682, \"value\": 0.5285412243744387}, \"11\": {\"effect\": 0.0522446483373642, \"value\": 0.3401229791810143}, \"12\": {\"effect\": 0.27344053983688354, \"value\": 0.7507586616736167}, \"13\": {\"effect\": 0.018067743629217148, \"value\": 0.22472304412362576}, \"14\": {\"effect\": 0.04440057650208473, \"value\": 0.45541710047068085}, \"15\": {\"effect\": 0.0767713412642479, \"value\": 0.5789822497222198}, \"16\": {\"effect\": -0.1298435777425766, \"value\": 0.8743189645667302}, \"17\": {\"effect\": 0.048956867307424545, \"value\": 0.3537877785641113}, \"18\": {\"effect\": 0.05932637304067612, \"value\": 0.3976278645554512}, \"19\": {\"effect\": -0.01848948933184147, \"value\": 0.6223156642057578}, \"20\": {\"effect\": 0.4430496394634247, \"value\": 0.12015503202675715}, \"21\": {\"effect\": 1.7856848239898682, \"value\": 0.7277117569272252}, \"22\": {\"effect\": -0.019120601937174797, \"value\": 0.8087441478469273}, \"23\": {\"effect\": -0.1301935464143753, \"value\": 0.450690106136348}, \"24\": {\"effect\": 0.12182014435529709, \"value\": 0.47001773627090393}, \"25\": {\"effect\": 0.028933962807059288, \"value\": 0.7643859535115455}, \"26\": {\"effect\": 0.3233453929424286, \"value\": 0.21733689987337645}, \"27\": {\"effect\": -0.03562481328845024, \"value\": 0.7340509669611098}, \"28\": {\"effect\": 0.03455967828631401, \"value\": 0.07028248888826047}, \"29\": {\"effect\": -0.055181968957185745, \"value\": 0.561680136272404}, \"30\": {\"effect\": 0.00737597094848752, \"value\": NaN}, \"31\": {\"effect\": -0.0005643021431751549, \"value\": NaN}, \"32\": {\"effect\": -0.002303856424987316, \"value\": NaN}}, \"plot_cmap\": \"PkYg\", \"labelMargin\": 20}),\n",
       "    document.getElementById('iPXONWLHV3MGHMRUHCX19')\n",
       "  );\n",
       "</script>"
      ],
      "text/plain": [
       "<IPython.core.display.HTML object>"
      ]
     },
     "execution_count": 108,
     "metadata": {},
     "output_type": "execute_result"
    }
   ],
   "source": [
    "index = 7 # the index of the point to explain\n",
    "print(explainer_xgb_user.expected_value[1]) # we explain user 1 predictions\n",
    "shap.force_plot(explainer_xgb_user.expected_value[1], shap_values_xgb_user[1][index,:], \n",
    "                features = X_test_transformed_xgb_user[index,:],feature_names = df.columns[3:], plot_cmap=\"PkYg\")"
   ]
  },
  {
   "cell_type": "markdown",
   "metadata": {},
   "source": [
    "### 2.2.2 SVC"
   ]
  },
  {
   "cell_type": "markdown",
   "metadata": {},
   "source": [
    "#### 2.2.2.1 Find the best gesture, tune corresponding hyperparameters"
   ]
  },
  {
   "cell_type": "code",
   "execution_count": 555,
   "metadata": {},
   "outputs": [],
   "source": [
    "def predict_user_given_class_svc(df_user_x, df_user_y, random_state=42):\n",
    "    \"\"\"Return the best xgb model, test score and records of tuning hyperparameters\"\"\"\n",
    "    num_ftrs = df_user_x.columns[2:]    # Categorical features\n",
    "    # Standard scaler\n",
    "    numeric_transformer = Pipeline(steps=[\n",
    "        ('scaler', MinMaxScaler()), \n",
    "        ('imputer', IterativeImputer(estimator = \n",
    "           RandomForestRegressor(max_depth=2, n_estimators=30, n_jobs=-1), \n",
    "                           random_state=random_state))])\n",
    "    # collect the transformers\n",
    "    preprocessor = ColumnTransformer(remainder='passthrough', \n",
    "        transformers=[('num', numeric_transformer, num_ftrs),])\n",
    "    X_other, X_test, y_other, y_test = train_test_split(df_user_x, df_user_y, \n",
    "                                        test_size=0.2, random_state=random_state, stratify=df_user_y)\n",
    "    X_other = preprocessor.fit_transform(X_other)\n",
    "    X_test = preprocessor.fit_transform(X_test)\n",
    "    X_train, X_cv, y_train, y_cv = train_test_split(X_other, y_other, \n",
    "                                        test_size=0.2, random_state=random_state, stratify=y_other)\n",
    "    # tune C and gamma\n",
    "    Cs = np.logspace(-4, 4, 4)\n",
    "    gammas = np.logspace(-4, 4, 4)\n",
    "    svc_para = {\"SVC\": [], \"C\":[], \"gamma\":[], \"accuracy_cv\":[]}\n",
    "    for C_train in Cs:\n",
    "        for gamma_train in gammas:\n",
    "            # Fit model\n",
    "            sv_classif = SVC(C=C_train, gamma=gamma_train)\n",
    "            sv_classif.fit(X_train, y_train)\n",
    "            # Accuracy for cv\n",
    "            y_cv_pred = sv_classif.predict(X_cv)\n",
    "            svc_para[\"accuracy_cv\"].append(accuracy_score(y_cv, y_cv_pred))\n",
    "            svc_para[\"C\"].append(C_train)\n",
    "            svc_para[\"gamma\"].append(gamma_train)\n",
    "            svc_para[\"SVC\"].append(sv_classif)\n",
    "    # Get the best SVC model\n",
    "    best_SVC = svc_para[\"SVC\"][np.argmax(svc_para[\"accuracy_cv\"])]\n",
    "    y_test_pred = best_SVC.predict(X_test)\n",
    "    score = accuracy_score(y_test, y_test_pred)\n",
    "    return best_SVC, score, svc_para, X_test, y_test"
   ]
  },
  {
   "cell_type": "code",
   "execution_count": 556,
   "metadata": {},
   "outputs": [
    {
     "name": "stdout",
     "output_type": "stream",
     "text": [
      "Class 1, time consumed: 195.93239402770996, score: 0.865355056870581\n",
      "Class 2, time consumed: 186.7735149860382, score: 0.9355807743658211\n",
      "Class 3, time consumed: 278.1638696193695, score: 0.9724686448455185\n",
      "Class 4, time consumed: 230.7910213470459, score: 0.9732656514382403\n",
      "Class 5, time consumed: 239.98356318473816, score: 0.9631394979345408\n",
      "4\n"
     ]
    }
   ],
   "source": [
    "user_pred_svc = {\"SVC\": [], \"class\": [], \"shape\": [], \"score\": [], \"para_log\": [], \"X_test\": [], \"y_test\": []}\n",
    "for i in range(1, 6):\n",
    "    start = time.time()\n",
    "    user_pred_svc[\"class\"].append(i)\n",
    "    df_user = df[df['Class'] == i][impute_feat].drop('Class', axis=1)    # Extracting data from Class i\n",
    "    df_user_x = df_user.drop('User', axis=1)    # Extract x\n",
    "    df_user_y = df_user[['User']]    # Extract y\n",
    "    # Model and score of prediction using Class i\n",
    "    svc_model, score, para_log, X_test_svc, y_test_svc = predict_user_given_class_svc(df_user_x, df_user_y)\n",
    "    # Record models, score and parameter tuning logs\n",
    "    user_pred_svc[\"SVC\"].append(svc_model)\n",
    "    user_pred_svc[\"score\"].append(score)\n",
    "    user_pred_svc[\"shape\"].append((df_user_x.shape, df_user_y.shape))\n",
    "    user_pred_svc[\"para_log\"].append(para_log)\n",
    "    user_pred_svc[\"X_test\"].append(X_test_svc)\n",
    "    user_pred_svc[\"y_test\"].append(y_test_svc)\n",
    "    end = time.time()\n",
    "    print(f\"Class {i}, time consumed: {end - start}, score: {score}\")\n",
    "\n",
    "print(user_pred_svc[\"class\"][np.argmax(user_pred_svc[\"score\"])])"
   ]
  },
  {
   "cell_type": "markdown",
   "metadata": {},
   "source": [
    "The best gesture for recognizing users using SVC is `Class 4`, which is \"point with two fingers\".  "
   ]
  },
  {
   "cell_type": "markdown",
   "metadata": {},
   "source": [
    "#### 2.2.2.2 Result of the best gesture and the best model"
   ]
  },
  {
   "cell_type": "code",
   "execution_count": 118,
   "metadata": {},
   "outputs": [
    {
     "name": "stdout",
     "output_type": "stream",
     "text": [
      "Test accuracy for gesture class 4 and the best SVC: 97.32656514382403%\n"
     ]
    },
    {
     "data": {
      "text/plain": [
       "array([[350,   0,   0,   0,   1,   0,   1,   1,   0,   2,   1,   0,   0,\n",
       "          0],\n",
       "       [  0, 110,   0,   0,   0,   0,   0,   1,   0,   0,   0,   0,   1,\n",
       "          0],\n",
       "       [  0,   0, 132,   0,   0,   0,   0,   0,   0,   3,   0,   0,   0,\n",
       "          0],\n",
       "       [  2,   1,   0,  16,   0,   0,   5,   2,   1,   1,   0,   0,   1,\n",
       "          1],\n",
       "       [  0,   0,   0,   0, 207,   0,   0,   0,   0,   0,   0,   0,   0,\n",
       "          0],\n",
       "       [  0,   0,   0,   0,   0, 147,   0,   0,   0,   0,   0,   0,   2,\n",
       "          0],\n",
       "       [  3,   1,   0,   3,   0,   0,  16,   3,   0,   1,   2,   1,   0,\n",
       "          0],\n",
       "       [  1,   3,   2,   0,   0,   3,   0, 212,   0,  11,   0,   0,   0,\n",
       "          0],\n",
       "       [  0,   1,   0,   0,   1,   0,   0,   0, 165,   0,   0,   0,   0,\n",
       "          0],\n",
       "       [  1,   0,   1,   0,   0,   0,   0,   7,   1, 367,   1,   1,   0,\n",
       "          0],\n",
       "       [  1,   0,   0,   0,   0,   0,   0,   0,   0,   0, 375,   0,   0,\n",
       "          0],\n",
       "       [  0,   0,   0,   0,   0,   0,   0,   0,   0,   1,   0, 241,   0,\n",
       "          0],\n",
       "       [  0,   0,   0,   0,   1,   0,   0,   0,   0,   0,   0,   0, 353,\n",
       "          0],\n",
       "       [  0,   0,   0,   0,   0,   0,   0,   0,   0,   0,   0,   1,   0,\n",
       "        185]], dtype=int64)"
      ]
     },
     "execution_count": 118,
     "metadata": {},
     "output_type": "execute_result"
    }
   ],
   "source": [
    "# Result of the best model on test set\n",
    "index = np.argmax(user_pred_svc[\"score\"])\n",
    "svc_user_class_4 = user_pred_svc[\"SVC\"][index]\n",
    "y_user_test_pred_svc = svc_user_class_4.predict(user_pred_svc[\"X_test\"][index])\n",
    "acc_score_svc_user = accuracy_score(user_pred_svc[\"y_test\"][index], y_user_test_pred_svc)\n",
    "print(f\"Test accuracy for gesture class 4 and the best SVC: {100*acc_score_svc_user}%\")\n",
    "confusion_matrix(user_pred_svc[\"y_test\"][index], y_user_test_pred_svc)"
   ]
  },
  {
   "cell_type": "code",
   "execution_count": 124,
   "metadata": {},
   "outputs": [
    {
     "data": {
      "image/png": "[encoded data removed]",
      "text/plain": [
       "<Figure size 504x504 with 1 Axes>"
      ]
     },
     "metadata": {
      "needs_background": "light"
     },
     "output_type": "display_data"
    }
   ],
   "source": [
    "# Confusion matrix for best XGB on test set\n",
    "df_cm_svc_user = pd.DataFrame(confusion_matrix(user_pred_svc[\"y_test\"][index], y_user_test_pred_svc), \n",
    "                         index=set(user_pred_svc[\"y_test\"][index][\"User\"]), columns=set(user_pred_svc[\"y_test\"][index][\"User\"]))\n",
    "plt.figure(figsize = (7,7))\n",
    "plt.title(\"Confusion Matrix for SVC, Predicting User\")\n",
    "sn.heatmap(df_cm_svc_user, annot=True, fmt='g', cbar=False, \n",
    "           annot_kws={\"size\": 13}, cmap=\"Blues\")\n",
    "plt.xlabel(\"Predicted Label\")\n",
    "plt.ylabel(\"True Label\")\n",
    "plt.savefig('../figures/Confusion Matrix for SVC, Predicting User.png',dpi=300)"
   ]
  },
  {
   "cell_type": "markdown",
   "metadata": {},
   "source": [
    "#### 2.2.2.3 Uncertainty created by random state"
   ]
  },
  {
   "cell_type": "code",
   "execution_count": 125,
   "metadata": {},
   "outputs": [],
   "source": [
    "def uncertainty_svc_user(random_state):\n",
    "    df_user = df[df['Class'] == 4][impute_feat].drop('Class', axis=1)    # Extracting data from Class i\n",
    "    df_user_x = df_user.drop('User', axis=1)    # Extract x\n",
    "    df_user_y = df_user[['User']]    # Extract y\n",
    "    num_ftrs = df_user_x.columns[2:]    # Categorical features\n",
    "    # Standard scaler\n",
    "    numeric_transformer = Pipeline(steps=[\n",
    "        ('scaler', MinMaxScaler()), \n",
    "        ('imputer', IterativeImputer(estimator = \n",
    "           RandomForestRegressor(max_depth=2, n_estimators=30, n_jobs=-1), \n",
    "                           random_state=random_state))])\n",
    "    # collect the transformers\n",
    "    preprocessor = ColumnTransformer(remainder='passthrough', \n",
    "        transformers=[('num', numeric_transformer, num_ftrs),])\n",
    "    X_other, X_test, y_other, y_test = train_test_split(df_user_x, df_user_y, \n",
    "                                        test_size=0.2, random_state=random_state, stratify=df_user_y)\n",
    "    X_other = preprocessor.fit_transform(X_other)\n",
    "    X_test = preprocessor.fit_transform(X_test)\n",
    "    X_train, X_cv, y_train, y_cv = train_test_split(X_other, y_other, \n",
    "                                        test_size=0.2, random_state=random_state, stratify=y_other)\n",
    "    sv_classif = SVC(C=10**(4.0), gamma=10**(-4/3))\n",
    "    sv_classif.fit(X_train, y_train)\n",
    "    y_user_test_pred_svc = sv_classif.predict(X_test)\n",
    "    return accuracy_score(y_test, y_user_test_pred_svc), pd.DataFrame(confusion_matrix(y_test, y_user_test_pred_svc), \n",
    "                                                 index=set(y_test[\"User\"]), columns=set(y_test[\"User\"]))"
   ]
  },
  {
   "cell_type": "code",
   "execution_count": 126,
   "metadata": {},
   "outputs": [],
   "source": [
    "acc_score_svc_user_2, df_cm_svc_user_2 = uncertainty_svc_user(45)\n",
    "acc_score_svc_user_3, df_cm_svc_user_3 = uncertainty_svc_user(49)\n",
    "acc_score_svc_user_4, df_cm_svc_user_4 = uncertainty_svc_user(54)\n",
    "acc_score_svc_user_5, df_cm_svc_user_5 = uncertainty_svc_user(68)"
   ]
  },
  {
   "cell_type": "code",
   "execution_count": 127,
   "metadata": {},
   "outputs": [
    {
     "name": "stdout",
     "output_type": "stream",
     "text": [
      "for user prediction, mean: 0.9744839255499155, std: 0.002389084615190912\n",
      "356.5811143097024 standard deviation above baseline\n"
     ]
    }
   ],
   "source": [
    "mean_acc_svc_user = np.mean([acc_score_svc_user, acc_score_svc_user_2, acc_score_svc_user_3, acc_score_svc_user_4, acc_score_svc_user_5])\n",
    "std_acc_svc_user = np.std([acc_score_svc_user, acc_score_svc_user_2, acc_score_svc_user_3, acc_score_svc_user_4, acc_score_svc_user_5])\n",
    "print(f\"for user prediction, mean: {mean_acc_svc_user}, std: {std_acc_svc_user}\")\n",
    "print(f\"{(mean_acc_svc_user-baseline_user)/std_acc_svc_user} standard deviation above baseline\")"
   ]
  },
  {
   "cell_type": "code",
   "execution_count": 128,
   "metadata": {},
   "outputs": [
    {
     "data": {
      "image/png": "[encoded data removed]",
      "text/plain": [
       "<Figure size 576x576 with 1 Axes>"
      ]
     },
     "metadata": {
      "needs_background": "light"
     },
     "output_type": "display_data"
    }
   ],
   "source": [
    "df_cm_svc_sum_user = df_cm_svc_user.add(df_cm_svc_user_2, fill_value=0).add(\n",
    "                df_cm_svc_user_3, fill_value=0).add(df_cm_svc_user_4, fill_value=0).add(df_cm_svc_user_5, fill_value=0)\n",
    "df_cm_svc_sum_user_normalize = 100*df_cm_svc_sum_user.astype('float') / df_cm_svc_sum_user.sum(axis=1)[:, np.newaxis]\n",
    "plt.figure(figsize = (8, 8))\n",
    "plt.title(\"Average Normalized Confusion Matrix for SVC, Predicting User\")\n",
    "sn.heatmap(df_cm_svc_sum_user_normalize.round(decimals=2), annot=True, fmt='g', cbar=False, \n",
    "           annot_kws={\"size\": 8}, cmap=\"Blues\")\n",
    "plt.xlabel(\"Predicted Label\")\n",
    "plt.ylabel(\"True Label\")\n",
    "plt.savefig('../figures/Average Normalized Confusion Matrix for SVC, Predicting User.png',dpi=300)"
   ]
  },
  {
   "cell_type": "markdown",
   "metadata": {},
   "source": [
    "#### 2.2.2.4 Local feature importance with svc"
   ]
  },
  {
   "cell_type": "code",
   "execution_count": 136,
   "metadata": {},
   "outputs": [
    {
     "name": "stdout",
     "output_type": "stream",
     "text": [
      "(2955, 16)\n"
     ]
    },
    {
     "data": {
      "application/vnd.jupyter.widget-view+json": {
       "model_id": "8a6ef1337a7e43b886336d1e07c553ca",
       "version_major": 2,
       "version_minor": 0
      },
      "text/plain": [
       "HBox(children=(IntProgress(value=0, max=10), HTML(value='')))"
      ]
     },
     "metadata": {},
     "output_type": "display_data"
    },
    {
     "name": "stdout",
     "output_type": "stream",
     "text": [
      "\n",
      "(14, 10, 16)\n"
     ]
    }
   ],
   "source": [
    "# create the explainer object with the random forest model\n",
    "explainer_svc_user = shap.KernelExplainer(model=svc_user_class_4.predict_proba, \n",
    "                                           data=user_pred_svc[\"X_test\"][index][0:10], link=\"logit\")\n",
    "# transform the test set\n",
    "X_test_transformed_svc_user = scaler_minmax.fit_transform(user_pred_svc[\"X_test\"][index])\n",
    "print(np.shape(X_test_transformed_svc_user))\n",
    "# calculate shap values on the first 100 points in the test\n",
    "shap_values_svc_user = explainer_svc_user.shap_values(X_test_transformed_svc_user[:10])\n",
    "print(np.shape(shap_values_svc_user))"
   ]
  },
  {
   "cell_type": "code",
   "execution_count": 138,
   "metadata": {},
   "outputs": [
    {
     "name": "stdout",
     "output_type": "stream",
     "text": [
      "-2.192966294925937\n"
     ]
    },
    {
     "data": {
      "text/html": [
       "\n",
       "<div id='iPHPYZKBTT9H7OR4TSBBB'>\n",
       "<div style='color: #900; text-align: center;'>\n",
       "  <b>Visualization omitted, Javascript library not loaded!</b><br>\n",
       "  Have you run `initjs()` in this notebook? If this notebook was from another\n",
       "  user you must also trust this notebook (File -> Trust notebook). If you are viewing\n",
       "  this notebook on github the Javascript has been stripped for security. If you are using\n",
       "  JupyterLab this error is because a JupyterLab extension has not yet been written.\n",
       "</div></div>\n",
       " <script>\n",
       "   if (window.SHAP) SHAP.ReactDom.render(\n",
       "    SHAP.React.createElement(SHAP.AdditiveForceVisualizer, {\"outNames\": [\"output value\"], \"baseValue\": -2.192966294925937, \"outValue\": -1.7777263448261191, \"link\": \"identity\", \"featureNames\": [\"X1\", \"Y1\", \"Z1\", \"X2\", \"Y2\", \"Z2\", \"X3\", \"Y3\", \"Z3\", \"X4\", \"Y4\", \"Z4\", \"Missing_marker_num\"], \"features\": {\"1\": {\"effect\": -0.3508381033781633, \"value\": 0.7824740016747558}, \"2\": {\"effect\": -0.021555333471519972, \"value\": 0.33223173668659145}, \"4\": {\"effect\": -0.24712467359960108, \"value\": 0.8265719783092524}, \"5\": {\"effect\": -0.0648681082295958, \"value\": 0.36689073826066554}, \"7\": {\"effect\": -0.28113718265578297, \"value\": 0.6965916192228065}, \"10\": {\"effect\": -0.06337437626523801, \"value\": 0.625183770955033}, \"12\": {\"effect\": -0.05246353699155012, \"value\": 0.3593255304816835}}, \"plot_cmap\": \"PkYg\", \"labelMargin\": 20}),\n",
       "    document.getElementById('iPHPYZKBTT9H7OR4TSBBB')\n",
       "  );\n",
       "</script>"
      ],
      "text/plain": [
       "<IPython.core.display.HTML object>"
      ]
     },
     "execution_count": 138,
     "metadata": {},
     "output_type": "execute_result"
    }
   ],
   "source": [
    "index = 7 # the index of the point to explain\n",
    "print(explainer_svc_user.expected_value[0]) # we explain user 0 predictions\n",
    "shap.force_plot(explainer_svc_user.expected_value[0], shap_values_svc_user[0][index,:], \n",
    "                features = X_test_transformed_svc_user[index,:],feature_names = x_class_test_impute.columns[3:], plot_cmap=\"PkYg\")"
   ]
  },
  {
   "cell_type": "code",
   "execution_count": 139,
   "metadata": {},
   "outputs": [
    {
     "name": "stdout",
     "output_type": "stream",
     "text": [
      "-7.224624881458444\n"
     ]
    },
    {
     "data": {
      "text/html": [
       "\n",
       "<div id='iFL4FGNVP6DK8JVEXFFVW'>\n",
       "<div style='color: #900; text-align: center;'>\n",
       "  <b>Visualization omitted, Javascript library not loaded!</b><br>\n",
       "  Have you run `initjs()` in this notebook? If this notebook was from another\n",
       "  user you must also trust this notebook (File -> Trust notebook). If you are viewing\n",
       "  this notebook on github the Javascript has been stripped for security. If you are using\n",
       "  JupyterLab this error is because a JupyterLab extension has not yet been written.\n",
       "</div></div>\n",
       " <script>\n",
       "   if (window.SHAP) SHAP.ReactDom.render(\n",
       "    SHAP.React.createElement(SHAP.AdditiveForceVisualizer, {\"outNames\": [\"output value\"], \"baseValue\": -7.224624881458444, \"outValue\": -2.925969085225523, \"link\": \"identity\", \"featureNames\": [\"X1\", \"Y1\", \"Z1\", \"X2\", \"Y2\", \"Z2\", \"X3\", \"Y3\", \"Z3\", \"X4\", \"Y4\", \"Z4\", \"Missing_marker_num\"], \"features\": {\"0\": {\"effect\": 0.06242391425655347, \"value\": 0.4403760590358595}, \"1\": {\"effect\": 0.4297924485128892, \"value\": 0.7824740016747558}, \"4\": {\"effect\": 0.4580254363872922, \"value\": 0.8265719783092524}, \"5\": {\"effect\": 0.04127793407630209, \"value\": 0.36689073826066554}, \"7\": {\"effect\": 0.47361606298982806, \"value\": 0.6965916192228065}, \"9\": {\"effect\": 0.07216504458682893, \"value\": 0.261404632626949}, \"10\": {\"effect\": 0.133528738324451, \"value\": 0.625183770955033}, \"12\": {\"effect\": 0.08321408025176158, \"value\": 0.3593255304816835}}, \"plot_cmap\": \"PkYg\", \"labelMargin\": 20}),\n",
       "    document.getElementById('iFL4FGNVP6DK8JVEXFFVW')\n",
       "  );\n",
       "</script>"
      ],
      "text/plain": [
       "<IPython.core.display.HTML object>"
      ]
     },
     "execution_count": 139,
     "metadata": {},
     "output_type": "execute_result"
    }
   ],
   "source": [
    "index = 7 # the index of the point to explain\n",
    "print(explainer_svc_user.expected_value[1]) # we explain user 1 predictions\n",
    "shap.force_plot(explainer_svc_user.expected_value[1], shap_values_svc_user[1][index,:], \n",
    "                features = X_test_transformed_svc_user[index,:],feature_names = x_class_test_impute.columns[3:], plot_cmap=\"PkYg\")"
   ]
  }
 ],
 "metadata": {
  "kernelspec": {
   "display_name": "Python 3",
   "language": "python",
   "name": "python3"
  },
  "language_info": {
   "codemirror_mode": {
    "name": "ipython",
    "version": 3
   },
   "file_extension": ".py",
   "mimetype": "text/x-python",
   "name": "python",
   "nbconvert_exporter": "python",
   "pygments_lexer": "ipython3",
   "version": "3.7.3"
  }
 },
 "nbformat": 4,
 "nbformat_minor": 4
}
